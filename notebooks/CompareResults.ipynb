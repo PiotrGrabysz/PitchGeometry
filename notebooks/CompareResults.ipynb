{
 "cells": [
  {
   "cell_type": "code",
   "execution_count": 1,
   "id": "79c17b2c-0e45-4ccd-9b0e-323bb5e3ac86",
   "metadata": {},
   "outputs": [],
   "source": [
    "import pandas as pd\n",
    "\n",
    "from pitch_geo.infer_utils import scale_xy"
   ]
  },
  {
   "cell_type": "code",
   "execution_count": 8,
   "id": "b4581376-b5ae-4838-9d17-c48b639480d4",
   "metadata": {},
   "outputs": [
    {
     "name": "stdout",
     "output_type": "stream",
     "text": [
      "-rw-r--r-- 1 tensorflow-user tensorflow-user 1531424 Dec 19 23:50 prediction_on_validation_data_20221124_094146.csv\n",
      "-rw-r--r-- 1 tensorflow-user tensorflow-user 1592814 Dec 19 23:43 prediction_on_validation_data_20221218_235616.csv\n",
      "-rw-r--r-- 1 tensorflow-user tensorflow-user 1592528 Dec 20 10:51 prediction_on_validation_data_20221220_102058.csv\n",
      "-rw-r--r-- 1 tensorflow-user tensorflow-user 1592961 Dec 20 11:59 prediction_on_validation_data_20221220_105705.csv\n",
      "-rw-r--r-- 1 tensorflow-user tensorflow-user 1592621 Dec 20 12:47 prediction_on_validation_data_20221220_120024.csv\n"
     ]
    }
   ],
   "source": [
    "! ls prediction_on_validation_data_*.csv -l"
   ]
  },
  {
   "cell_type": "code",
   "execution_count": 2,
   "id": "ac7de63b-50e0-4f33-b88b-430c1a7ced8d",
   "metadata": {},
   "outputs": [],
   "source": [
    "# Results on the validation set from the model 20221124_094146\n",
    "df1  = pd.read_csv('prediction_on_validation_data_20221124_094146.csv', index_col=0)\n",
    "\n",
    "# Results on the validation set from the model 20221218_235616\n",
    "df2  = pd.read_csv('prediction_on_validation_data_20221218_235616.csv', index_col=0)\n",
    "\n",
    "df3  = pd.read_csv('prediction_on_validation_data_20221220_102058.csv', index_col=0)\n",
    "\n",
    "df4  = pd.read_csv('prediction_on_validation_data_20221220_105705.csv', index_col=0)\n",
    "\n",
    "df5  = pd.read_csv('prediction_on_validation_data_20221220_120024.csv', index_col=0)\n",
    "\n",
    "df6  = pd.read_csv('prediction_on_validation_data_20221220_153616.csv', index_col=0)\n",
    "\n",
    "# True results\n",
    "df_true = pd.read_csv('true_validation_data.csv', index_col=0)\n",
    "df_true = scale_xy(df_true)"
   ]
  },
  {
   "cell_type": "code",
   "execution_count": 24,
   "id": "82e7c28a-9b3f-496b-918b-3607f57ca37d",
   "metadata": {},
   "outputs": [
    {
     "data": {
      "text/plain": [
       "True"
      ]
     },
     "execution_count": 24,
     "metadata": {},
     "output_type": "execute_result"
    }
   ],
   "source": [
    "all(df1['image_path'].unique() == df2['image_path'].unique())"
   ]
  },
  {
   "cell_type": "code",
   "execution_count": 25,
   "id": "ecebe0ce-c773-435c-b2cd-0db4096b1521",
   "metadata": {},
   "outputs": [
    {
     "data": {
      "text/plain": [
       "True"
      ]
     },
     "execution_count": 25,
     "metadata": {},
     "output_type": "execute_result"
    }
   ],
   "source": [
    "all(df1['image_path'].unique() == df_true['image_path'].unique())"
   ]
  },
  {
   "cell_type": "code",
   "execution_count": 3,
   "id": "9972136d-edac-418a-91d0-925a29842535",
   "metadata": {},
   "outputs": [],
   "source": [
    "df1 = df1[df1['kid'].isin(df_true['kid'].unique())]\n",
    "df2 = df2[df2['kid'].isin(df_true['kid'].unique())]\n",
    "df3 = df3[df3['kid'].isin(df_true['kid'].unique())]\n",
    "df4 = df4[df4['kid'].isin(df_true['kid'].unique())]\n",
    "df5 = df5[df5['kid'].isin(df_true['kid'].unique())]\n",
    "df6 = df6[df6['kid'].isin(df_true['kid'].unique())]"
   ]
  },
  {
   "cell_type": "code",
   "execution_count": 4,
   "id": "cc0f4527-13c7-4972-94ed-6d7b69e3419a",
   "metadata": {},
   "outputs": [
    {
     "name": "stdout",
     "output_type": "stream",
     "text": [
      "19516 19516 19516\n"
     ]
    }
   ],
   "source": [
    "print(len(df1), len(df3), len(df_true))"
   ]
  },
  {
   "cell_type": "code",
   "execution_count": 4,
   "id": "41296dab-6687-4318-a603-ec4614a8f27d",
   "metadata": {},
   "outputs": [],
   "source": [
    "df1.reset_index(inplace=True)\n",
    "df2.reset_index(inplace=True)\n",
    "df3.reset_index(inplace=True)\n",
    "df4.reset_index(inplace=True)\n",
    "df5.reset_index(inplace=True)\n",
    "df6.reset_index(inplace=True)\n",
    "df_true.reset_index(inplace=True)"
   ]
  },
  {
   "cell_type": "code",
   "execution_count": 5,
   "id": "e60cf2a9-06d9-4cf3-9be1-b996ea5d124b",
   "metadata": {},
   "outputs": [],
   "source": [
    "def corrdinates_loss(true, pred):\n",
    "    mask = true['vis'] != 0\n",
    "    \n",
    "    x = (true.loc[mask]['x'] - pred.loc[mask]['x']) ** 2\n",
    "    y = (true.loc[mask]['y'] - pred.loc[mask]['y']) ** 2\n",
    "    \n",
    "    loss = (x + y).transform('sqrt').agg('mean')\n",
    "    return loss"
   ]
  },
  {
   "cell_type": "code",
   "execution_count": 6,
   "id": "722d4839-63cf-45bc-8b1f-e1dc61ee65fb",
   "metadata": {},
   "outputs": [
    {
     "data": {
      "text/plain": [
       "141.66641324737935"
      ]
     },
     "execution_count": 6,
     "metadata": {},
     "output_type": "execute_result"
    }
   ],
   "source": [
    "corrdinates_loss(df_true, df1)"
   ]
  },
  {
   "cell_type": "code",
   "execution_count": 45,
   "id": "9d112de9-21da-4f90-813c-c4c82f0f903f",
   "metadata": {},
   "outputs": [
    {
     "data": {
      "text/plain": [
       "133.84014774427985"
      ]
     },
     "execution_count": 45,
     "metadata": {},
     "output_type": "execute_result"
    }
   ],
   "source": [
    "corrdinates_loss(df_true, df2)"
   ]
  },
  {
   "cell_type": "markdown",
   "id": "b3607b33-8fc2-4068-ab5c-7952fd4c1d2c",
   "metadata": {},
   "source": [
    "It has almost the same recall and precision as the model 20221124_094146, but coordinates loss is twice as low!\n",
    "\n",
    "\n",
    "|          | 20221124_094146 | 20221220_102058 |\n",
    "|----------|-----------------|-----------------|\n",
    "|precision | 0.971           | 0.9686          |\n",
    "|recall    | 0.9708          | 0.9688          |"
   ]
  },
  {
   "cell_type": "code",
   "execution_count": 7,
   "id": "03d703ca-2e13-4e6d-a381-18f9eccfb732",
   "metadata": {},
   "outputs": [
    {
     "data": {
      "text/plain": [
       "74.4954285031414"
      ]
     },
     "execution_count": 7,
     "metadata": {},
     "output_type": "execute_result"
    }
   ],
   "source": [
    "# weight = .5 or 0.9 ???\n",
    "corrdinates_loss(df_true, df3)"
   ]
  },
  {
   "cell_type": "code",
   "execution_count": 24,
   "id": "6a0f193d-f087-4bce-a3f0-025778c88da8",
   "metadata": {},
   "outputs": [
    {
     "data": {
      "text/plain": [
       "67.79878906843044"
      ]
     },
     "execution_count": 24,
     "metadata": {},
     "output_type": "execute_result"
    }
   ],
   "source": [
    "# weight = 1.0\n",
    "corrdinates_loss(df_true, df4)"
   ]
  },
  {
   "cell_type": "markdown",
   "id": "7504d6c0-e1a8-4ee5-9a02-f584f670910c",
   "metadata": {},
   "source": [
    "This model has even lower coordinates loss, but its precision and recall are a bit poorer\n",
    "\n",
    "|          | 20221124_094146 | 20221220_102058 |\n",
    "|----------|-----------------|-----------------|\n",
    "|precision | 0.971           | 0.9529          |\n",
    "|recall    | 0.9708          | 0.9296          |"
   ]
  },
  {
   "cell_type": "code",
   "execution_count": 25,
   "id": "b6d41d2c-1746-4c27-a582-625b12fd0339",
   "metadata": {},
   "outputs": [
    {
     "data": {
      "text/plain": [
       "65.08887638576492"
      ]
     },
     "execution_count": 25,
     "metadata": {},
     "output_type": "execute_result"
    }
   ],
   "source": [
    "# weight = .999\n",
    "corrdinates_loss(df_true, df5)"
   ]
  },
  {
   "cell_type": "markdown",
   "id": "352d943a-e430-4aa0-8e45-745825bd1a4b",
   "metadata": {},
   "source": [
    "|          | 20221124_094146 | 20221220_153616 |\n",
    "|----------|-----------------|-----------------|\n",
    "|precision | 0.971           | 0.9661          |\n",
    "|recall    | 0.9708          | 0.9693          |"
   ]
  },
  {
   "cell_type": "code",
   "execution_count": 33,
   "id": "5db1d52f-c9e3-4c77-843d-38c45f992f40",
   "metadata": {},
   "outputs": [
    {
     "data": {
      "text/plain": [
       "71.39714513855259"
      ]
     },
     "execution_count": 33,
     "metadata": {},
     "output_type": "execute_result"
    }
   ],
   "source": [
    "# weight = .95\n",
    "corrdinates_loss(df_true, df6)"
   ]
  },
  {
   "cell_type": "code",
   "execution_count": 40,
   "id": "deec3dd9-0cf3-4b35-9bb0-5974f9137137",
   "metadata": {},
   "outputs": [],
   "source": [
    "test_df = pd.read_csv('test_keypoints_teacher_forcing.csv')"
   ]
  },
  {
   "cell_type": "code",
   "execution_count": 41,
   "id": "22449cd8-c750-48df-b8e0-90caf9b16326",
   "metadata": {},
   "outputs": [
    {
     "data": {
      "text/html": [
       "<div>\n",
       "<style scoped>\n",
       "    .dataframe tbody tr th:only-of-type {\n",
       "        vertical-align: middle;\n",
       "    }\n",
       "\n",
       "    .dataframe tbody tr th {\n",
       "        vertical-align: top;\n",
       "    }\n",
       "\n",
       "    .dataframe thead th {\n",
       "        text-align: right;\n",
       "    }\n",
       "</style>\n",
       "<table border=\"1\" class=\"dataframe\">\n",
       "  <thead>\n",
       "    <tr style=\"text-align: right;\">\n",
       "      <th></th>\n",
       "      <th>x</th>\n",
       "      <th>y</th>\n",
       "      <th>vis</th>\n",
       "      <th>dataset</th>\n",
       "      <th>kid</th>\n",
       "      <th>image_path</th>\n",
       "    </tr>\n",
       "  </thead>\n",
       "  <tbody>\n",
       "    <tr>\n",
       "      <th>0</th>\n",
       "      <td>0</td>\n",
       "      <td>0</td>\n",
       "      <td>0</td>\n",
       "      <td>test</td>\n",
       "      <td>1</td>\n",
       "      <td>images/test/0117b5a019bafe1bff3b93516fc1be.jpg</td>\n",
       "    </tr>\n",
       "    <tr>\n",
       "      <th>1</th>\n",
       "      <td>258</td>\n",
       "      <td>274</td>\n",
       "      <td>2</td>\n",
       "      <td>test</td>\n",
       "      <td>2</td>\n",
       "      <td>images/test/0117b5a019bafe1bff3b93516fc1be.jpg</td>\n",
       "    </tr>\n",
       "    <tr>\n",
       "      <th>2</th>\n",
       "      <td>0</td>\n",
       "      <td>0</td>\n",
       "      <td>0</td>\n",
       "      <td>test</td>\n",
       "      <td>3</td>\n",
       "      <td>images/test/0117b5a019bafe1bff3b93516fc1be.jpg</td>\n",
       "    </tr>\n",
       "    <tr>\n",
       "      <th>3</th>\n",
       "      <td>0</td>\n",
       "      <td>0</td>\n",
       "      <td>0</td>\n",
       "      <td>test</td>\n",
       "      <td>4</td>\n",
       "      <td>images/test/0117b5a019bafe1bff3b93516fc1be.jpg</td>\n",
       "    </tr>\n",
       "    <tr>\n",
       "      <th>4</th>\n",
       "      <td>0</td>\n",
       "      <td>0</td>\n",
       "      <td>0</td>\n",
       "      <td>test</td>\n",
       "      <td>5</td>\n",
       "      <td>images/test/0117b5a019bafe1bff3b93516fc1be.jpg</td>\n",
       "    </tr>\n",
       "    <tr>\n",
       "      <th>...</th>\n",
       "      <td>...</td>\n",
       "      <td>...</td>\n",
       "      <td>...</td>\n",
       "      <td>...</td>\n",
       "      <td>...</td>\n",
       "      <td>...</td>\n",
       "    </tr>\n",
       "    <tr>\n",
       "      <th>11305</th>\n",
       "      <td>0</td>\n",
       "      <td>0</td>\n",
       "      <td>0</td>\n",
       "      <td>test</td>\n",
       "      <td>35</td>\n",
       "      <td>images/test/fe0ae584ba268e6292f553d7494f27.jpg</td>\n",
       "    </tr>\n",
       "    <tr>\n",
       "      <th>11306</th>\n",
       "      <td>0</td>\n",
       "      <td>0</td>\n",
       "      <td>0</td>\n",
       "      <td>test</td>\n",
       "      <td>36</td>\n",
       "      <td>images/test/fe0ae584ba268e6292f553d7494f27.jpg</td>\n",
       "    </tr>\n",
       "    <tr>\n",
       "      <th>11307</th>\n",
       "      <td>0</td>\n",
       "      <td>0</td>\n",
       "      <td>0</td>\n",
       "      <td>test</td>\n",
       "      <td>37</td>\n",
       "      <td>images/test/fe0ae584ba268e6292f553d7494f27.jpg</td>\n",
       "    </tr>\n",
       "    <tr>\n",
       "      <th>11308</th>\n",
       "      <td>0</td>\n",
       "      <td>0</td>\n",
       "      <td>0</td>\n",
       "      <td>test</td>\n",
       "      <td>38</td>\n",
       "      <td>images/test/fe0ae584ba268e6292f553d7494f27.jpg</td>\n",
       "    </tr>\n",
       "    <tr>\n",
       "      <th>11309</th>\n",
       "      <td>0</td>\n",
       "      <td>0</td>\n",
       "      <td>0</td>\n",
       "      <td>test</td>\n",
       "      <td>39</td>\n",
       "      <td>images/test/fe0ae584ba268e6292f553d7494f27.jpg</td>\n",
       "    </tr>\n",
       "  </tbody>\n",
       "</table>\n",
       "<p>11310 rows × 6 columns</p>\n",
       "</div>"
      ],
      "text/plain": [
       "         x    y  vis dataset  kid  \\\n",
       "0        0    0    0    test    1   \n",
       "1      258  274    2    test    2   \n",
       "2        0    0    0    test    3   \n",
       "3        0    0    0    test    4   \n",
       "4        0    0    0    test    5   \n",
       "...    ...  ...  ...     ...  ...   \n",
       "11305    0    0    0    test   35   \n",
       "11306    0    0    0    test   36   \n",
       "11307    0    0    0    test   37   \n",
       "11308    0    0    0    test   38   \n",
       "11309    0    0    0    test   39   \n",
       "\n",
       "                                           image_path  \n",
       "0      images/test/0117b5a019bafe1bff3b93516fc1be.jpg  \n",
       "1      images/test/0117b5a019bafe1bff3b93516fc1be.jpg  \n",
       "2      images/test/0117b5a019bafe1bff3b93516fc1be.jpg  \n",
       "3      images/test/0117b5a019bafe1bff3b93516fc1be.jpg  \n",
       "4      images/test/0117b5a019bafe1bff3b93516fc1be.jpg  \n",
       "...                                               ...  \n",
       "11305  images/test/fe0ae584ba268e6292f553d7494f27.jpg  \n",
       "11306  images/test/fe0ae584ba268e6292f553d7494f27.jpg  \n",
       "11307  images/test/fe0ae584ba268e6292f553d7494f27.jpg  \n",
       "11308  images/test/fe0ae584ba268e6292f553d7494f27.jpg  \n",
       "11309  images/test/fe0ae584ba268e6292f553d7494f27.jpg  \n",
       "\n",
       "[11310 rows x 6 columns]"
      ]
     },
     "execution_count": 41,
     "metadata": {},
     "output_type": "execute_result"
    }
   ],
   "source": [
    "test_df"
   ]
  }
 ],
 "metadata": {
  "kernelspec": {
   "display_name": "Python 3 (ipykernel)",
   "language": "python",
   "name": "python3"
  },
  "language_info": {
   "codemirror_mode": {
    "name": "ipython",
    "version": 3
   },
   "file_extension": ".py",
   "mimetype": "text/x-python",
   "name": "python",
   "nbconvert_exporter": "python",
   "pygments_lexer": "ipython3",
   "version": "3.8.10"
  }
 },
 "nbformat": 4,
 "nbformat_minor": 5
}
