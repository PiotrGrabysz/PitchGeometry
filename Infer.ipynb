{
 "cells": [
  {
   "cell_type": "code",
   "execution_count": 1,
   "id": "870e9a0a-01b8-49d0-b34b-d7629ba31ab7",
   "metadata": {},
   "outputs": [],
   "source": [
    "%load_ext autoreload\n",
    "%autoreload 2\n",
    "\n",
    "from pathlib import Path\n",
    "\n",
    "import matplotlib.pyplot as plt\n",
    "import pandas as pd\n",
    "import tensorflow as tf\n",
    "\n",
    "from pitch_geo.constants import DATA_FOLDER\n",
    "from pitch_geo import data\n",
    "from pitch_geo.models import models\n",
    "import pitch_geo.vis_utils as vis_utils"
   ]
  },
  {
   "cell_type": "code",
   "execution_count": 2,
   "id": "2e90cef8-b489-4952-9dca-3396d54d8487",
   "metadata": {},
   "outputs": [],
   "source": [
    "df = data.get_keypoints(dataset='train')"
   ]
  },
  {
   "cell_type": "code",
   "execution_count": 3,
   "id": "9dc13bdc-6c2b-4fbd-a06e-0bdef4f41e28",
   "metadata": {},
   "outputs": [],
   "source": [
    "IMG_SIZE = 240\n",
    "BATCH_SIZE = 32\n",
    "EPOCHS = 100\n",
    "NUM_KEYPOINTS = 34  # 34 pairs each having x and y coordinates\n",
    "\n",
    "keypoint_ids = sorted(df['kid'].unique())\n",
    "LABELS = {key: value for key, value in zip(range(len(keypoint_ids)), keypoint_ids)}"
   ]
  },
  {
   "cell_type": "code",
   "execution_count": 17,
   "id": "8d459e75-7be9-4bff-9ded-45ca98a44aab",
   "metadata": {},
   "outputs": [],
   "source": [
    "DIRECTORY = DATA_FOLDER / 'images/test'"
   ]
  },
  {
   "cell_type": "code",
   "execution_count": 37,
   "id": "373c7fe7-7df6-4d0c-94ec-760cd4137c9a",
   "metadata": {},
   "outputs": [],
   "source": [
    "AUTOTUNE = tf.data.AUTOTUNE"
   ]
  },
  {
   "cell_type": "markdown",
   "id": "aedddf32-9183-4708-9027-a05e2aa87aad",
   "metadata": {
    "tags": []
   },
   "source": [
    "# Get the model"
   ]
  },
  {
   "cell_type": "code",
   "execution_count": 4,
   "id": "e0d1415a-f2e0-4a9d-b99e-d5fe02d691d1",
   "metadata": {
    "collapsed": true,
    "jupyter": {
     "outputs_hidden": true
    },
    "tags": []
   },
   "outputs": [
    {
     "name": "stdout",
     "output_type": "stream",
     "text": [
      "checkpoint\n",
      "weights.001-0.100638.data-00000-of-00001\n",
      "weights.001-0.100638.index\n",
      "weights.002-0.054403.data-00000-of-00001\n",
      "weights.002-0.054403.index\n",
      "weights.003-0.024111.data-00000-of-00001\n",
      "weights.003-0.024111.index\n",
      "weights.004-0.014155.data-00000-of-00001\n",
      "weights.004-0.014155.index\n",
      "weights.005-0.011311.data-00000-of-00001\n",
      "weights.005-0.011311.index\n",
      "weights.006-0.008802.data-00000-of-00001\n",
      "weights.006-0.008802.index\n",
      "weights.007-0.008488.data-00000-of-00001\n",
      "weights.007-0.008488.index\n",
      "weights.008-0.007209.data-00000-of-00001\n",
      "weights.008-0.007209.index\n",
      "weights.009-0.005376.data-00000-of-00001\n",
      "weights.009-0.005376.index\n",
      "weights.010-0.004198.data-00000-of-00001\n",
      "weights.010-0.004198.index\n",
      "weights.011-0.003400.data-00000-of-00001\n",
      "weights.011-0.003400.index\n",
      "weights.012-0.003054.data-00000-of-00001\n",
      "weights.012-0.003054.index\n",
      "weights.013-0.003189.data-00000-of-00001\n",
      "weights.013-0.003189.index\n",
      "weights.014-0.003154.data-00000-of-00001\n",
      "weights.014-0.003154.index\n",
      "weights.015-0.002931.data-00000-of-00001\n",
      "weights.015-0.002931.index\n",
      "weights.016-0.002708.data-00000-of-00001\n",
      "weights.016-0.002708.index\n",
      "weights.017-0.002391.data-00000-of-00001\n",
      "weights.017-0.002391.index\n",
      "weights.018-0.002129.data-00000-of-00001\n",
      "weights.018-0.002129.index\n",
      "weights.019-0.002249.data-00000-of-00001\n",
      "weights.019-0.002249.index\n",
      "weights.020-0.002396.data-00000-of-00001\n",
      "weights.020-0.002396.index\n",
      "weights.021-0.002541.data-00000-of-00001\n",
      "weights.021-0.002541.index\n",
      "weights.022-0.002062.data-00000-of-00001\n",
      "weights.022-0.002062.index\n",
      "weights.023-0.001466.data-00000-of-00001\n",
      "weights.023-0.001466.index\n",
      "weights.024-0.001531.data-00000-of-00001\n",
      "weights.024-0.001531.index\n",
      "weights.025-0.001510.data-00000-of-00001\n",
      "weights.025-0.001510.index\n",
      "weights.026-0.001908.data-00000-of-00001\n",
      "weights.026-0.001908.index\n",
      "weights.027-0.002063.data-00000-of-00001\n",
      "weights.027-0.002063.index\n",
      "weights.028-0.001877.data-00000-of-00001\n",
      "weights.028-0.001877.index\n",
      "weights.029-0.000934.data-00000-of-00001\n",
      "weights.029-0.000934.index\n",
      "weights.030-0.000582.data-00000-of-00001\n",
      "weights.030-0.000582.index\n",
      "weights.031-0.000498.data-00000-of-00001\n",
      "weights.031-0.000498.index\n",
      "weights.032-0.000431.data-00000-of-00001\n",
      "weights.032-0.000431.index\n",
      "weights.033-0.000375.data-00000-of-00001\n",
      "weights.033-0.000375.index\n",
      "weights.034-0.000348.data-00000-of-00001\n",
      "weights.034-0.000348.index\n",
      "weights.035-0.000321.data-00000-of-00001\n",
      "weights.035-0.000321.index\n",
      "weights.036-0.000301.data-00000-of-00001\n",
      "weights.036-0.000301.index\n",
      "weights.037-0.000271.data-00000-of-00001\n",
      "weights.037-0.000271.index\n",
      "weights.038-0.000264.data-00000-of-00001\n",
      "weights.038-0.000264.index\n",
      "weights.039-0.000245.data-00000-of-00001\n",
      "weights.039-0.000245.index\n",
      "weights.040-0.000238.data-00000-of-00001\n",
      "weights.040-0.000238.index\n",
      "weights.041-0.000219.data-00000-of-00001\n",
      "weights.041-0.000219.index\n",
      "weights.042-0.000213.data-00000-of-00001\n",
      "weights.042-0.000213.index\n",
      "weights.043-0.000211.data-00000-of-00001\n",
      "weights.043-0.000211.index\n",
      "weights.044-0.000210.data-00000-of-00001\n",
      "weights.044-0.000210.index\n",
      "weights.045-0.000208.data-00000-of-00001\n",
      "weights.045-0.000208.index\n",
      "weights.046-0.000207.data-00000-of-00001\n",
      "weights.046-0.000207.index\n",
      "weights.047-0.000206.data-00000-of-00001\n",
      "weights.047-0.000206.index\n",
      "weights.048-0.000205.data-00000-of-00001\n",
      "weights.048-0.000205.index\n",
      "weights.049-0.000203.data-00000-of-00001\n",
      "weights.049-0.000203.index\n"
     ]
    }
   ],
   "source": [
    "!ls checkpoints/20221123_234541/"
   ]
  },
  {
   "cell_type": "code",
   "execution_count": 11,
   "id": "be939b73-e0cb-4303-bf59-cd2b43c128ec",
   "metadata": {},
   "outputs": [
    {
     "data": {
      "text/plain": [
       "<tensorflow.python.training.tracking.util.CheckpointLoadStatus at 0x7f2229dba6d0>"
      ]
     },
     "execution_count": 11,
     "metadata": {},
     "output_type": "execute_result"
    }
   ],
   "source": [
    "model = models.get_model(IMG_SIZE, NUM_KEYPOINTS, dropout=None)\n",
    "model.load_weights('checkpoints/20221123_234541/weights.049-0.000203')"
   ]
  },
  {
   "cell_type": "code",
   "execution_count": 21,
   "id": "ac291346-b495-4421-8383-e6a2fe1fbd95",
   "metadata": {},
   "outputs": [],
   "source": [
    "model_input_shape = model.input_shape[1:3]"
   ]
  },
  {
   "cell_type": "markdown",
   "id": "f4640cd4-d362-4c0b-adc2-ba00747f9605",
   "metadata": {},
   "source": [
    "## Prepare image loader"
   ]
  },
  {
   "cell_type": "code",
   "execution_count": 35,
   "id": "000078a4-7864-4c9b-bc44-c07c4128fc8c",
   "metadata": {},
   "outputs": [],
   "source": [
    "from functools import partial"
   ]
  },
  {
   "cell_type": "code",
   "execution_count": 32,
   "id": "9417b506-7870-445f-af66-0c62525bbf9f",
   "metadata": {},
   "outputs": [],
   "source": [
    "images_paths = sorted(str(x) for x in DIRECTORY.glob('*.jpg'))"
   ]
  },
  {
   "cell_type": "code",
   "execution_count": 44,
   "id": "d526d11f-e2c5-4d37-b88e-9950a826d0da",
   "metadata": {},
   "outputs": [],
   "source": [
    "dataset_img_paths = tf.data.Dataset.from_tensor_slices(images_paths)\n",
    "\n",
    "# if isinstance(image_size, int):\n",
    "#     image_size = (image_size, image_size)\n",
    "\n",
    "dataset = dataset_img_paths.map(\n",
    "    partial(\n",
    "        data.load_image,\n",
    "        image_size=(IMG_SIZE, IMG_SIZE),\n",
    "        num_channels=3,\n",
    "        interpolation='bilinear'\n",
    "    ),\n",
    "    num_parallel_calls=AUTOTUNE\n",
    ")"
   ]
  },
  {
   "cell_type": "code",
   "execution_count": 48,
   "id": "66bbfcb6-5f11-45c8-aad6-42e275e90991",
   "metadata": {},
   "outputs": [],
   "source": [
    "dataset = (\n",
    "    dataset\n",
    "    .batch(BATCH_SIZE)\n",
    "    .prefetch(buffer_size=AUTOTUNE)\n",
    ")"
   ]
  },
  {
   "cell_type": "code",
   "execution_count": 64,
   "id": "526f6271-e985-4910-a1d9-fb64bc80ed99",
   "metadata": {},
   "outputs": [
    {
     "name": "stdout",
     "output_type": "stream",
     "text": [
      "10/10 [==============================] - 1s 94ms/step\n"
     ]
    }
   ],
   "source": [
    "keypoints = model.predict(dataset)"
   ]
  },
  {
   "cell_type": "code",
   "execution_count": 65,
   "id": "c5cd2e54-7779-40d6-9e9b-ba85e45b930e",
   "metadata": {},
   "outputs": [],
   "source": [
    "keypoints = keypoints.reshape(290, NUM_KEYPOINTS, 3).reshape(-1, 3)"
   ]
  },
  {
   "cell_type": "code",
   "execution_count": 154,
   "id": "53d4dbaf-f7b9-4bff-a54b-f718644555b1",
   "metadata": {},
   "outputs": [],
   "source": [
    "kid = pd.Series([label for _, label in LABELS.items()])\n",
    "kid = pd.concat([kid for _ in range(290)], ignore_index=True)\n",
    "\n",
    "def strip_datafolder_name(path: str):\n",
    "    if str(DATA_FOLDER) in path:\n",
    "        return path[len(str(DATA_FOLDER)) + 1:]\n",
    "    return path\n",
    "\n",
    "paths = pd.concat(\n",
    "    [\n",
    "        pd.Series([strip_datafolder_name(p) for _ in range(NUM_KEYPOINTS)])\n",
    "        for p in images_paths\n",
    "    ],\n",
    "    ignore_index=True\n",
    ")\n",
    "\n",
    "df = pd.DataFrame(data={\n",
    "    'x': keypoints[:, 0],\n",
    "    'y': keypoints[:, 1],\n",
    "    'vis': keypoints[:, 2],\n",
    "    'dataset': 'test',\n",
    "    'kid': kid,\n",
    "    'image_path': paths\n",
    "})"
   ]
  },
  {
   "cell_type": "code",
   "execution_count": 143,
   "id": "397a01ec-7db3-437a-86dd-e8edf2965cfe",
   "metadata": {},
   "outputs": [],
   "source": [
    "def scale_xy(df):\n",
    "    df['x'] = round(df['x'] * 1920).astype('int64')\n",
    "    df['y'] = round(df['y'] * 1080).astype('int64')\n",
    "    return df\n",
    "\n",
    "\n",
    "def visibility(df, threshold=0.5):\n",
    "    df['vis'] = df['vis'].apply(lambda x: 2 if x >= threshold else 0)\n",
    "    return df"
   ]
  },
  {
   "cell_type": "code",
   "execution_count": 155,
   "id": "174f6114-4a2b-4dfb-94df-a2d7f1cfd375",
   "metadata": {},
   "outputs": [],
   "source": [
    "df = scale_xy(df)\n",
    "df = visibility(df)"
   ]
  },
  {
   "cell_type": "code",
   "execution_count": 156,
   "id": "482cc465-9128-4ace-96a5-9b4e9d4b8013",
   "metadata": {},
   "outputs": [
    {
     "data": {
      "text/html": [
       "<div>\n",
       "<style scoped>\n",
       "    .dataframe tbody tr th:only-of-type {\n",
       "        vertical-align: middle;\n",
       "    }\n",
       "\n",
       "    .dataframe tbody tr th {\n",
       "        vertical-align: top;\n",
       "    }\n",
       "\n",
       "    .dataframe thead th {\n",
       "        text-align: right;\n",
       "    }\n",
       "</style>\n",
       "<table border=\"1\" class=\"dataframe\">\n",
       "  <thead>\n",
       "    <tr style=\"text-align: right;\">\n",
       "      <th></th>\n",
       "      <th>x</th>\n",
       "      <th>y</th>\n",
       "      <th>vis</th>\n",
       "      <th>dataset</th>\n",
       "      <th>kid</th>\n",
       "      <th>image_path</th>\n",
       "    </tr>\n",
       "  </thead>\n",
       "  <tbody>\n",
       "    <tr>\n",
       "      <th>0</th>\n",
       "      <td>0</td>\n",
       "      <td>0</td>\n",
       "      <td>0</td>\n",
       "      <td>test</td>\n",
       "      <td>1</td>\n",
       "      <td>images/test/0117b5a019bafe1bff3b93516fc1be.jpg</td>\n",
       "    </tr>\n",
       "    <tr>\n",
       "      <th>1</th>\n",
       "      <td>119</td>\n",
       "      <td>228</td>\n",
       "      <td>2</td>\n",
       "      <td>test</td>\n",
       "      <td>2</td>\n",
       "      <td>images/test/0117b5a019bafe1bff3b93516fc1be.jpg</td>\n",
       "    </tr>\n",
       "    <tr>\n",
       "      <th>2</th>\n",
       "      <td>0</td>\n",
       "      <td>0</td>\n",
       "      <td>0</td>\n",
       "      <td>test</td>\n",
       "      <td>3</td>\n",
       "      <td>images/test/0117b5a019bafe1bff3b93516fc1be.jpg</td>\n",
       "    </tr>\n",
       "    <tr>\n",
       "      <th>3</th>\n",
       "      <td>5</td>\n",
       "      <td>7</td>\n",
       "      <td>0</td>\n",
       "      <td>test</td>\n",
       "      <td>4</td>\n",
       "      <td>images/test/0117b5a019bafe1bff3b93516fc1be.jpg</td>\n",
       "    </tr>\n",
       "    <tr>\n",
       "      <th>4</th>\n",
       "      <td>0</td>\n",
       "      <td>0</td>\n",
       "      <td>0</td>\n",
       "      <td>test</td>\n",
       "      <td>5</td>\n",
       "      <td>images/test/0117b5a019bafe1bff3b93516fc1be.jpg</td>\n",
       "    </tr>\n",
       "    <tr>\n",
       "      <th>...</th>\n",
       "      <td>...</td>\n",
       "      <td>...</td>\n",
       "      <td>...</td>\n",
       "      <td>...</td>\n",
       "      <td>...</td>\n",
       "      <td>...</td>\n",
       "    </tr>\n",
       "    <tr>\n",
       "      <th>9855</th>\n",
       "      <td>4</td>\n",
       "      <td>1</td>\n",
       "      <td>0</td>\n",
       "      <td>test</td>\n",
       "      <td>32</td>\n",
       "      <td>images/test/fe0ae584ba268e6292f553d7494f27.jpg</td>\n",
       "    </tr>\n",
       "    <tr>\n",
       "      <th>9856</th>\n",
       "      <td>0</td>\n",
       "      <td>2</td>\n",
       "      <td>0</td>\n",
       "      <td>test</td>\n",
       "      <td>33</td>\n",
       "      <td>images/test/fe0ae584ba268e6292f553d7494f27.jpg</td>\n",
       "    </tr>\n",
       "    <tr>\n",
       "      <th>9857</th>\n",
       "      <td>2</td>\n",
       "      <td>2</td>\n",
       "      <td>0</td>\n",
       "      <td>test</td>\n",
       "      <td>34</td>\n",
       "      <td>images/test/fe0ae584ba268e6292f553d7494f27.jpg</td>\n",
       "    </tr>\n",
       "    <tr>\n",
       "      <th>9858</th>\n",
       "      <td>1</td>\n",
       "      <td>1</td>\n",
       "      <td>0</td>\n",
       "      <td>test</td>\n",
       "      <td>35</td>\n",
       "      <td>images/test/fe0ae584ba268e6292f553d7494f27.jpg</td>\n",
       "    </tr>\n",
       "    <tr>\n",
       "      <th>9859</th>\n",
       "      <td>3</td>\n",
       "      <td>3</td>\n",
       "      <td>0</td>\n",
       "      <td>test</td>\n",
       "      <td>39</td>\n",
       "      <td>images/test/fe0ae584ba268e6292f553d7494f27.jpg</td>\n",
       "    </tr>\n",
       "  </tbody>\n",
       "</table>\n",
       "<p>9860 rows × 6 columns</p>\n",
       "</div>"
      ],
      "text/plain": [
       "        x    y  vis dataset  kid  \\\n",
       "0       0    0    0    test    1   \n",
       "1     119  228    2    test    2   \n",
       "2       0    0    0    test    3   \n",
       "3       5    7    0    test    4   \n",
       "4       0    0    0    test    5   \n",
       "...   ...  ...  ...     ...  ...   \n",
       "9855    4    1    0    test   32   \n",
       "9856    0    2    0    test   33   \n",
       "9857    2    2    0    test   34   \n",
       "9858    1    1    0    test   35   \n",
       "9859    3    3    0    test   39   \n",
       "\n",
       "                                          image_path  \n",
       "0     images/test/0117b5a019bafe1bff3b93516fc1be.jpg  \n",
       "1     images/test/0117b5a019bafe1bff3b93516fc1be.jpg  \n",
       "2     images/test/0117b5a019bafe1bff3b93516fc1be.jpg  \n",
       "3     images/test/0117b5a019bafe1bff3b93516fc1be.jpg  \n",
       "4     images/test/0117b5a019bafe1bff3b93516fc1be.jpg  \n",
       "...                                              ...  \n",
       "9855  images/test/fe0ae584ba268e6292f553d7494f27.jpg  \n",
       "9856  images/test/fe0ae584ba268e6292f553d7494f27.jpg  \n",
       "9857  images/test/fe0ae584ba268e6292f553d7494f27.jpg  \n",
       "9858  images/test/fe0ae584ba268e6292f553d7494f27.jpg  \n",
       "9859  images/test/fe0ae584ba268e6292f553d7494f27.jpg  \n",
       "\n",
       "[9860 rows x 6 columns]"
      ]
     },
     "execution_count": 156,
     "metadata": {},
     "output_type": "execute_result"
    }
   ],
   "source": [
    "df"
   ]
  },
  {
   "cell_type": "code",
   "execution_count": 150,
   "id": "6e903315-f553-4f76-be66-1e3c8d2e7270",
   "metadata": {},
   "outputs": [
    {
     "data": {
      "text/plain": [
       "array([ 1,  2,  3,  4,  5,  6,  7,  8,  9, 10, 11, 12, 13, 14, 15, 16, 17,\n",
       "       18, 19, 20, 21, 22, 23, 25, 26, 27, 28, 29, 31, 32, 33, 34, 35, 39])"
      ]
     },
     "execution_count": 150,
     "metadata": {},
     "output_type": "execute_result"
    }
   ],
   "source": [
    "df['kid'].unique()"
   ]
  },
  {
   "cell_type": "code",
   "execution_count": 153,
   "id": "1334e6e7-7f33-47e2-b33c-a1ebcc64c959",
   "metadata": {},
   "outputs": [
    {
     "data": {
      "text/html": [
       "<div>\n",
       "<style scoped>\n",
       "    .dataframe tbody tr th:only-of-type {\n",
       "        vertical-align: middle;\n",
       "    }\n",
       "\n",
       "    .dataframe tbody tr th {\n",
       "        vertical-align: top;\n",
       "    }\n",
       "\n",
       "    .dataframe thead th {\n",
       "        text-align: right;\n",
       "    }\n",
       "</style>\n",
       "<table border=\"1\" class=\"dataframe\">\n",
       "  <thead>\n",
       "    <tr style=\"text-align: right;\">\n",
       "      <th></th>\n",
       "      <th>x</th>\n",
       "      <th>y</th>\n",
       "      <th>vis</th>\n",
       "      <th>kid</th>\n",
       "      <th>dataset</th>\n",
       "      <th>image_path</th>\n",
       "    </tr>\n",
       "  </thead>\n",
       "  <tbody>\n",
       "    <tr>\n",
       "      <th>149058</th>\n",
       "      <td>0</td>\n",
       "      <td>0</td>\n",
       "      <td>0</td>\n",
       "      <td>1</td>\n",
       "      <td>test</td>\n",
       "      <td>images/test/f585ed04d5e3b076ad206dd6085297.jpg</td>\n",
       "    </tr>\n",
       "    <tr>\n",
       "      <th>149059</th>\n",
       "      <td>0</td>\n",
       "      <td>0</td>\n",
       "      <td>0</td>\n",
       "      <td>2</td>\n",
       "      <td>test</td>\n",
       "      <td>images/test/f585ed04d5e3b076ad206dd6085297.jpg</td>\n",
       "    </tr>\n",
       "    <tr>\n",
       "      <th>149060</th>\n",
       "      <td>0</td>\n",
       "      <td>0</td>\n",
       "      <td>0</td>\n",
       "      <td>3</td>\n",
       "      <td>test</td>\n",
       "      <td>images/test/f585ed04d5e3b076ad206dd6085297.jpg</td>\n",
       "    </tr>\n",
       "    <tr>\n",
       "      <th>149061</th>\n",
       "      <td>0</td>\n",
       "      <td>0</td>\n",
       "      <td>0</td>\n",
       "      <td>4</td>\n",
       "      <td>test</td>\n",
       "      <td>images/test/f585ed04d5e3b076ad206dd6085297.jpg</td>\n",
       "    </tr>\n",
       "    <tr>\n",
       "      <th>149062</th>\n",
       "      <td>0</td>\n",
       "      <td>0</td>\n",
       "      <td>0</td>\n",
       "      <td>5</td>\n",
       "      <td>test</td>\n",
       "      <td>images/test/f585ed04d5e3b076ad206dd6085297.jpg</td>\n",
       "    </tr>\n",
       "    <tr>\n",
       "      <th>...</th>\n",
       "      <td>...</td>\n",
       "      <td>...</td>\n",
       "      <td>...</td>\n",
       "      <td>...</td>\n",
       "      <td>...</td>\n",
       "      <td>...</td>\n",
       "    </tr>\n",
       "    <tr>\n",
       "      <th>160363</th>\n",
       "      <td>0</td>\n",
       "      <td>0</td>\n",
       "      <td>0</td>\n",
       "      <td>35</td>\n",
       "      <td>test</td>\n",
       "      <td>images/test/1a086eda9797612fa9c24b38cd94fc.jpg</td>\n",
       "    </tr>\n",
       "    <tr>\n",
       "      <th>160364</th>\n",
       "      <td>0</td>\n",
       "      <td>0</td>\n",
       "      <td>0</td>\n",
       "      <td>36</td>\n",
       "      <td>test</td>\n",
       "      <td>images/test/1a086eda9797612fa9c24b38cd94fc.jpg</td>\n",
       "    </tr>\n",
       "    <tr>\n",
       "      <th>160365</th>\n",
       "      <td>0</td>\n",
       "      <td>0</td>\n",
       "      <td>0</td>\n",
       "      <td>37</td>\n",
       "      <td>test</td>\n",
       "      <td>images/test/1a086eda9797612fa9c24b38cd94fc.jpg</td>\n",
       "    </tr>\n",
       "    <tr>\n",
       "      <th>160366</th>\n",
       "      <td>0</td>\n",
       "      <td>0</td>\n",
       "      <td>0</td>\n",
       "      <td>38</td>\n",
       "      <td>test</td>\n",
       "      <td>images/test/1a086eda9797612fa9c24b38cd94fc.jpg</td>\n",
       "    </tr>\n",
       "    <tr>\n",
       "      <th>160367</th>\n",
       "      <td>0</td>\n",
       "      <td>0</td>\n",
       "      <td>0</td>\n",
       "      <td>39</td>\n",
       "      <td>test</td>\n",
       "      <td>images/test/1a086eda9797612fa9c24b38cd94fc.jpg</td>\n",
       "    </tr>\n",
       "  </tbody>\n",
       "</table>\n",
       "<p>11310 rows × 6 columns</p>\n",
       "</div>"
      ],
      "text/plain": [
       "        x  y  vis  kid dataset                                      image_path\n",
       "149058  0  0    0    1    test  images/test/f585ed04d5e3b076ad206dd6085297.jpg\n",
       "149059  0  0    0    2    test  images/test/f585ed04d5e3b076ad206dd6085297.jpg\n",
       "149060  0  0    0    3    test  images/test/f585ed04d5e3b076ad206dd6085297.jpg\n",
       "149061  0  0    0    4    test  images/test/f585ed04d5e3b076ad206dd6085297.jpg\n",
       "149062  0  0    0    5    test  images/test/f585ed04d5e3b076ad206dd6085297.jpg\n",
       "...    .. ..  ...  ...     ...                                             ...\n",
       "160363  0  0    0   35    test  images/test/1a086eda9797612fa9c24b38cd94fc.jpg\n",
       "160364  0  0    0   36    test  images/test/1a086eda9797612fa9c24b38cd94fc.jpg\n",
       "160365  0  0    0   37    test  images/test/1a086eda9797612fa9c24b38cd94fc.jpg\n",
       "160366  0  0    0   38    test  images/test/1a086eda9797612fa9c24b38cd94fc.jpg\n",
       "160367  0  0    0   39    test  images/test/1a086eda9797612fa9c24b38cd94fc.jpg\n",
       "\n",
       "[11310 rows x 6 columns]"
      ]
     },
     "execution_count": 153,
     "metadata": {},
     "output_type": "execute_result"
    }
   ],
   "source": [
    "df_test"
   ]
  },
  {
   "cell_type": "code",
   "execution_count": 135,
   "id": "8b915ecb-ace3-4e93-a4ce-8abab25dc525",
   "metadata": {},
   "outputs": [],
   "source": [
    "df_test = data.get_keypoints(dataset='test')"
   ]
  },
  {
   "cell_type": "code",
   "execution_count": 152,
   "id": "3b385521-1351-4786-a448-48e120017ccd",
   "metadata": {},
   "outputs": [
    {
     "data": {
      "text/plain": [
       "{24, 30, 36, 37, 38}"
      ]
     },
     "execution_count": 152,
     "metadata": {},
     "output_type": "execute_result"
    }
   ],
   "source": [
    "set(df_test['kid'].unique()) - set(df['kid'].unique())"
   ]
  },
  {
   "cell_type": "code",
   "execution_count": 175,
   "id": "12cc1b36-b07d-46b8-8957-7bb01a1b0efb",
   "metadata": {},
   "outputs": [],
   "source": [
    "def get_remaining_keypoints(img_path):\n",
    "    df_tmp = pd.DataFrame({\n",
    "        'x': 0,\n",
    "        'y': 0,\n",
    "        'vis': 0,\n",
    "        'kid': [24, 30, 36, 37, 38],\n",
    "        'dataset': 'test',\n",
    "        'image_path': img_path\n",
    "    })\n",
    "    return df_tmp"
   ]
  },
  {
   "cell_type": "code",
   "execution_count": 176,
   "id": "a5049dca-ff16-4f29-89e0-4a9decfa5c95",
   "metadata": {},
   "outputs": [],
   "source": [
    "remaining_keypoints = pd.concat((get_remaining_keypoints(img_path) for img_path in df['image_path'].unique()), ignore_index=True)"
   ]
  },
  {
   "cell_type": "code",
   "execution_count": 177,
   "id": "6592c5cd-3965-4a6f-b2e4-4b240f610270",
   "metadata": {},
   "outputs": [],
   "source": [
    "df = pd.concat([df, remaining_keypoints], ignore_index=True)"
   ]
  },
  {
   "cell_type": "code",
   "execution_count": 182,
   "id": "42bf79a2-c758-4ed2-b6e6-b6eb8830b4ee",
   "metadata": {},
   "outputs": [],
   "source": [
    "df = df.sort_values(by=['image_path', 'kid'])"
   ]
  },
  {
   "cell_type": "markdown",
   "id": "a6691ad1-c9fc-49a5-a9a7-ff1e34a3f051",
   "metadata": {},
   "source": [
    "# Plot the predictions to see if they are ok"
   ]
  },
  {
   "cell_type": "code",
   "execution_count": 27,
   "id": "766f5020-2650-4da0-b962-3d0d11f8129b",
   "metadata": {},
   "outputs": [],
   "source": [
    "df = pd.read_csv('final.csv', header=0)"
   ]
  },
  {
   "cell_type": "code",
   "execution_count": 16,
   "id": "8022fb89-d23d-48a4-819b-72e9ef7aac7e",
   "metadata": {},
   "outputs": [
    {
     "data": {
      "text/html": [
       "<div>\n",
       "<style scoped>\n",
       "    .dataframe tbody tr th:only-of-type {\n",
       "        vertical-align: middle;\n",
       "    }\n",
       "\n",
       "    .dataframe tbody tr th {\n",
       "        vertical-align: top;\n",
       "    }\n",
       "\n",
       "    .dataframe thead th {\n",
       "        text-align: right;\n",
       "    }\n",
       "</style>\n",
       "<table border=\"1\" class=\"dataframe\">\n",
       "  <thead>\n",
       "    <tr style=\"text-align: right;\">\n",
       "      <th></th>\n",
       "      <th>x</th>\n",
       "      <th>y</th>\n",
       "      <th>vis</th>\n",
       "      <th>dataset</th>\n",
       "      <th>kid</th>\n",
       "      <th>image_path</th>\n",
       "    </tr>\n",
       "  </thead>\n",
       "  <tbody>\n",
       "    <tr>\n",
       "      <th>0</th>\n",
       "      <td>0</td>\n",
       "      <td>0</td>\n",
       "      <td>0</td>\n",
       "      <td>test</td>\n",
       "      <td>1</td>\n",
       "      <td>images/test/0117b5a019bafe1bff3b93516fc1be.jpg</td>\n",
       "    </tr>\n",
       "    <tr>\n",
       "      <th>1</th>\n",
       "      <td>140</td>\n",
       "      <td>241</td>\n",
       "      <td>2</td>\n",
       "      <td>test</td>\n",
       "      <td>2</td>\n",
       "      <td>images/test/0117b5a019bafe1bff3b93516fc1be.jpg</td>\n",
       "    </tr>\n",
       "    <tr>\n",
       "      <th>2</th>\n",
       "      <td>0</td>\n",
       "      <td>0</td>\n",
       "      <td>0</td>\n",
       "      <td>test</td>\n",
       "      <td>3</td>\n",
       "      <td>images/test/0117b5a019bafe1bff3b93516fc1be.jpg</td>\n",
       "    </tr>\n",
       "    <tr>\n",
       "      <th>3</th>\n",
       "      <td>0</td>\n",
       "      <td>0</td>\n",
       "      <td>0</td>\n",
       "      <td>test</td>\n",
       "      <td>4</td>\n",
       "      <td>images/test/0117b5a019bafe1bff3b93516fc1be.jpg</td>\n",
       "    </tr>\n",
       "    <tr>\n",
       "      <th>4</th>\n",
       "      <td>0</td>\n",
       "      <td>0</td>\n",
       "      <td>0</td>\n",
       "      <td>test</td>\n",
       "      <td>5</td>\n",
       "      <td>images/test/0117b5a019bafe1bff3b93516fc1be.jpg</td>\n",
       "    </tr>\n",
       "    <tr>\n",
       "      <th>...</th>\n",
       "      <td>...</td>\n",
       "      <td>...</td>\n",
       "      <td>...</td>\n",
       "      <td>...</td>\n",
       "      <td>...</td>\n",
       "      <td>...</td>\n",
       "    </tr>\n",
       "    <tr>\n",
       "      <th>11305</th>\n",
       "      <td>0</td>\n",
       "      <td>0</td>\n",
       "      <td>0</td>\n",
       "      <td>test</td>\n",
       "      <td>35</td>\n",
       "      <td>images/test/fe0ae584ba268e6292f553d7494f27.jpg</td>\n",
       "    </tr>\n",
       "    <tr>\n",
       "      <th>11306</th>\n",
       "      <td>0</td>\n",
       "      <td>0</td>\n",
       "      <td>0</td>\n",
       "      <td>test</td>\n",
       "      <td>36</td>\n",
       "      <td>images/test/fe0ae584ba268e6292f553d7494f27.jpg</td>\n",
       "    </tr>\n",
       "    <tr>\n",
       "      <th>11307</th>\n",
       "      <td>0</td>\n",
       "      <td>0</td>\n",
       "      <td>0</td>\n",
       "      <td>test</td>\n",
       "      <td>37</td>\n",
       "      <td>images/test/fe0ae584ba268e6292f553d7494f27.jpg</td>\n",
       "    </tr>\n",
       "    <tr>\n",
       "      <th>11308</th>\n",
       "      <td>0</td>\n",
       "      <td>0</td>\n",
       "      <td>0</td>\n",
       "      <td>test</td>\n",
       "      <td>38</td>\n",
       "      <td>images/test/fe0ae584ba268e6292f553d7494f27.jpg</td>\n",
       "    </tr>\n",
       "    <tr>\n",
       "      <th>11309</th>\n",
       "      <td>0</td>\n",
       "      <td>0</td>\n",
       "      <td>0</td>\n",
       "      <td>test</td>\n",
       "      <td>39</td>\n",
       "      <td>images/test/fe0ae584ba268e6292f553d7494f27.jpg</td>\n",
       "    </tr>\n",
       "  </tbody>\n",
       "</table>\n",
       "<p>11310 rows × 6 columns</p>\n",
       "</div>"
      ],
      "text/plain": [
       "         x    y  vis dataset  kid  \\\n",
       "0        0    0    0    test    1   \n",
       "1      140  241    2    test    2   \n",
       "2        0    0    0    test    3   \n",
       "3        0    0    0    test    4   \n",
       "4        0    0    0    test    5   \n",
       "...    ...  ...  ...     ...  ...   \n",
       "11305    0    0    0    test   35   \n",
       "11306    0    0    0    test   36   \n",
       "11307    0    0    0    test   37   \n",
       "11308    0    0    0    test   38   \n",
       "11309    0    0    0    test   39   \n",
       "\n",
       "                                           image_path  \n",
       "0      images/test/0117b5a019bafe1bff3b93516fc1be.jpg  \n",
       "1      images/test/0117b5a019bafe1bff3b93516fc1be.jpg  \n",
       "2      images/test/0117b5a019bafe1bff3b93516fc1be.jpg  \n",
       "3      images/test/0117b5a019bafe1bff3b93516fc1be.jpg  \n",
       "4      images/test/0117b5a019bafe1bff3b93516fc1be.jpg  \n",
       "...                                               ...  \n",
       "11305  images/test/fe0ae584ba268e6292f553d7494f27.jpg  \n",
       "11306  images/test/fe0ae584ba268e6292f553d7494f27.jpg  \n",
       "11307  images/test/fe0ae584ba268e6292f553d7494f27.jpg  \n",
       "11308  images/test/fe0ae584ba268e6292f553d7494f27.jpg  \n",
       "11309  images/test/fe0ae584ba268e6292f553d7494f27.jpg  \n",
       "\n",
       "[11310 rows x 6 columns]"
      ]
     },
     "execution_count": 16,
     "metadata": {},
     "output_type": "execute_result"
    }
   ],
   "source": [
    "df"
   ]
  },
  {
   "cell_type": "code",
   "execution_count": 8,
   "id": "0bc877a3-52e5-493e-80df-82f134d774ce",
   "metadata": {},
   "outputs": [],
   "source": [
    "output_dir = Path('outputs/test3')\n",
    "output_dir.mkdir(exist_ok=True, parents=True)"
   ]
  },
  {
   "cell_type": "code",
   "execution_count": 33,
   "id": "15ca7f98-057b-4b22-80b5-152ee913fa0a",
   "metadata": {},
   "outputs": [
    {
     "name": "stdout",
     "output_type": "stream",
     "text": [
      "Using matplotlib backend: agg\n"
     ]
    }
   ],
   "source": [
    "%matplotlib\n",
    "\n",
    "for img_path in df_all[df_all['dataset'] == 'test']['image_path'].unique():\n",
    "    vis_utils.visualize_keypoints(image_path=img_path, df=df_all)\n",
    "    plt.savefig(fname=(output_dir / Path(img_path).name))\n",
    "    plt.close()"
   ]
  },
  {
   "cell_type": "code",
   "execution_count": 203,
   "id": "d1cd9a27-755b-4365-8086-c02ae5a9809e",
   "metadata": {},
   "outputs": [
    {
     "name": "stdout",
     "output_type": "stream",
     "text": [
      "WARNING:tensorflow:Compiled the loaded model, but the compiled metrics have yet to be built. `model.compile_metrics` will be empty until you train or evaluate the model.\n"
     ]
    },
    {
     "name": "stderr",
     "output_type": "stream",
     "text": [
      "WARNING:absl:Found untraced functions such as _jit_compiled_convolution_op, _jit_compiled_convolution_op, _jit_compiled_convolution_op, _jit_compiled_convolution_op, _jit_compiled_convolution_op while saving (showing 5 of 119). These functions will not be directly callable after loading.\n"
     ]
    },
    {
     "name": "stdout",
     "output_type": "stream",
     "text": [
      "INFO:tensorflow:Assets written to: best_model/assets\n"
     ]
    },
    {
     "name": "stderr",
     "output_type": "stream",
     "text": [
      "INFO:tensorflow:Assets written to: best_model/assets\n"
     ]
    }
   ],
   "source": [
    "model.save('best_model')"
   ]
  },
  {
   "cell_type": "code",
   "execution_count": 28,
   "id": "9b44523b-268b-4174-9312-999a941afa2c",
   "metadata": {},
   "outputs": [],
   "source": [
    "df_all = pd.read_csv('data/df_keypoints.csv', header=0)"
   ]
  },
  {
   "cell_type": "code",
   "execution_count": 21,
   "id": "d8f87a87-753a-4861-a6f0-a34c63bc6713",
   "metadata": {},
   "outputs": [
    {
     "name": "stdout",
     "output_type": "stream",
     "text": [
      "       x  y  vis dataset  kid                                      image_path\n",
      "11037  2  1    0    test    1  images/test/f585ed04d5e3b076ad206dd6085297.jpg\n"
     ]
    }
   ],
   "source": [
    "for i in range(len(df_all)):\n",
    "    kid = df_all.iloc[i]['kid']\n",
    "    image_path = df_all.iloc[i]['image_path']\n",
    "    tmp = df.query(f'kid==\"{kid}\" and image_path == \"{image_path}\"')\n",
    "    if len(tmp):\n",
    "        print(tmp)\n",
    "        break"
   ]
  },
  {
   "cell_type": "code",
   "execution_count": 29,
   "id": "cb4be8f6-a4f3-4810-b6f0-061ad8c7f678",
   "metadata": {},
   "outputs": [],
   "source": [
    "for _, row in df.iterrows():\n",
    "    kid = row['kid']\n",
    "    image_path = row['image_path']\n",
    "    \n",
    "    idx = df_all.query(f'kid==\"{kid}\" and image_path == \"{image_path}\"').index\n",
    "    df_all.loc[idx, 'x'] = row['x']\n",
    "    df_all.loc[idx, 'y'] = row['y']\n",
    "    df_all.loc[idx, 'vis'] = row['vis']"
   ]
  },
  {
   "cell_type": "code",
   "execution_count": 32,
   "id": "e9dc3d4a-d919-4e54-ad98-b368e38e2329",
   "metadata": {},
   "outputs": [
    {
     "data": {
      "text/html": [
       "<div>\n",
       "<style scoped>\n",
       "    .dataframe tbody tr th:only-of-type {\n",
       "        vertical-align: middle;\n",
       "    }\n",
       "\n",
       "    .dataframe tbody tr th {\n",
       "        vertical-align: top;\n",
       "    }\n",
       "\n",
       "    .dataframe thead th {\n",
       "        text-align: right;\n",
       "    }\n",
       "</style>\n",
       "<table border=\"1\" class=\"dataframe\">\n",
       "  <thead>\n",
       "    <tr style=\"text-align: right;\">\n",
       "      <th></th>\n",
       "      <th>x</th>\n",
       "      <th>y</th>\n",
       "      <th>vis</th>\n",
       "      <th>kid</th>\n",
       "      <th>dataset</th>\n",
       "      <th>image_path</th>\n",
       "    </tr>\n",
       "  </thead>\n",
       "  <tbody>\n",
       "    <tr>\n",
       "      <th>149058</th>\n",
       "      <td>2</td>\n",
       "      <td>1</td>\n",
       "      <td>0</td>\n",
       "      <td>1</td>\n",
       "      <td>test</td>\n",
       "      <td>images/test/f585ed04d5e3b076ad206dd6085297.jpg</td>\n",
       "    </tr>\n",
       "    <tr>\n",
       "      <th>149059</th>\n",
       "      <td>11</td>\n",
       "      <td>15</td>\n",
       "      <td>0</td>\n",
       "      <td>2</td>\n",
       "      <td>test</td>\n",
       "      <td>images/test/f585ed04d5e3b076ad206dd6085297.jpg</td>\n",
       "    </tr>\n",
       "    <tr>\n",
       "      <th>149060</th>\n",
       "      <td>0</td>\n",
       "      <td>0</td>\n",
       "      <td>0</td>\n",
       "      <td>3</td>\n",
       "      <td>test</td>\n",
       "      <td>images/test/f585ed04d5e3b076ad206dd6085297.jpg</td>\n",
       "    </tr>\n",
       "    <tr>\n",
       "      <th>149061</th>\n",
       "      <td>30</td>\n",
       "      <td>26</td>\n",
       "      <td>0</td>\n",
       "      <td>4</td>\n",
       "      <td>test</td>\n",
       "      <td>images/test/f585ed04d5e3b076ad206dd6085297.jpg</td>\n",
       "    </tr>\n",
       "    <tr>\n",
       "      <th>149062</th>\n",
       "      <td>0</td>\n",
       "      <td>0</td>\n",
       "      <td>0</td>\n",
       "      <td>5</td>\n",
       "      <td>test</td>\n",
       "      <td>images/test/f585ed04d5e3b076ad206dd6085297.jpg</td>\n",
       "    </tr>\n",
       "    <tr>\n",
       "      <th>...</th>\n",
       "      <td>...</td>\n",
       "      <td>...</td>\n",
       "      <td>...</td>\n",
       "      <td>...</td>\n",
       "      <td>...</td>\n",
       "      <td>...</td>\n",
       "    </tr>\n",
       "    <tr>\n",
       "      <th>160363</th>\n",
       "      <td>0</td>\n",
       "      <td>0</td>\n",
       "      <td>0</td>\n",
       "      <td>35</td>\n",
       "      <td>test</td>\n",
       "      <td>images/test/1a086eda9797612fa9c24b38cd94fc.jpg</td>\n",
       "    </tr>\n",
       "    <tr>\n",
       "      <th>160364</th>\n",
       "      <td>0</td>\n",
       "      <td>0</td>\n",
       "      <td>0</td>\n",
       "      <td>36</td>\n",
       "      <td>test</td>\n",
       "      <td>images/test/1a086eda9797612fa9c24b38cd94fc.jpg</td>\n",
       "    </tr>\n",
       "    <tr>\n",
       "      <th>160365</th>\n",
       "      <td>0</td>\n",
       "      <td>0</td>\n",
       "      <td>0</td>\n",
       "      <td>37</td>\n",
       "      <td>test</td>\n",
       "      <td>images/test/1a086eda9797612fa9c24b38cd94fc.jpg</td>\n",
       "    </tr>\n",
       "    <tr>\n",
       "      <th>160366</th>\n",
       "      <td>0</td>\n",
       "      <td>0</td>\n",
       "      <td>0</td>\n",
       "      <td>38</td>\n",
       "      <td>test</td>\n",
       "      <td>images/test/1a086eda9797612fa9c24b38cd94fc.jpg</td>\n",
       "    </tr>\n",
       "    <tr>\n",
       "      <th>160367</th>\n",
       "      <td>0</td>\n",
       "      <td>0</td>\n",
       "      <td>0</td>\n",
       "      <td>39</td>\n",
       "      <td>test</td>\n",
       "      <td>images/test/1a086eda9797612fa9c24b38cd94fc.jpg</td>\n",
       "    </tr>\n",
       "  </tbody>\n",
       "</table>\n",
       "<p>11310 rows × 6 columns</p>\n",
       "</div>"
      ],
      "text/plain": [
       "         x   y  vis  kid dataset  \\\n",
       "149058   2   1    0    1    test   \n",
       "149059  11  15    0    2    test   \n",
       "149060   0   0    0    3    test   \n",
       "149061  30  26    0    4    test   \n",
       "149062   0   0    0    5    test   \n",
       "...     ..  ..  ...  ...     ...   \n",
       "160363   0   0    0   35    test   \n",
       "160364   0   0    0   36    test   \n",
       "160365   0   0    0   37    test   \n",
       "160366   0   0    0   38    test   \n",
       "160367   0   0    0   39    test   \n",
       "\n",
       "                                            image_path  \n",
       "149058  images/test/f585ed04d5e3b076ad206dd6085297.jpg  \n",
       "149059  images/test/f585ed04d5e3b076ad206dd6085297.jpg  \n",
       "149060  images/test/f585ed04d5e3b076ad206dd6085297.jpg  \n",
       "149061  images/test/f585ed04d5e3b076ad206dd6085297.jpg  \n",
       "149062  images/test/f585ed04d5e3b076ad206dd6085297.jpg  \n",
       "...                                                ...  \n",
       "160363  images/test/1a086eda9797612fa9c24b38cd94fc.jpg  \n",
       "160364  images/test/1a086eda9797612fa9c24b38cd94fc.jpg  \n",
       "160365  images/test/1a086eda9797612fa9c24b38cd94fc.jpg  \n",
       "160366  images/test/1a086eda9797612fa9c24b38cd94fc.jpg  \n",
       "160367  images/test/1a086eda9797612fa9c24b38cd94fc.jpg  \n",
       "\n",
       "[11310 rows x 6 columns]"
      ]
     },
     "execution_count": 32,
     "metadata": {},
     "output_type": "execute_result"
    }
   ],
   "source": [
    "df_all[df_all['dataset'] == 'test']"
   ]
  },
  {
   "cell_type": "code",
   "execution_count": 34,
   "id": "559d1a84-18a4-4393-b11c-22a31134a1e8",
   "metadata": {},
   "outputs": [],
   "source": [
    "df_all.to_csv('df_keypoints.csv', index=False)"
   ]
  }
 ],
 "metadata": {
  "kernelspec": {
   "display_name": "Python 3 (ipykernel)",
   "language": "python",
   "name": "python3"
  },
  "language_info": {
   "codemirror_mode": {
    "name": "ipython",
    "version": 3
   },
   "file_extension": ".py",
   "mimetype": "text/x-python",
   "name": "python",
   "nbconvert_exporter": "python",
   "pygments_lexer": "ipython3",
   "version": "3.8.10"
  }
 },
 "nbformat": 4,
 "nbformat_minor": 5
}
