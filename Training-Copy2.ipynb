{
 "cells": [
  {
   "cell_type": "markdown",
   "id": "8c972974-17ae-4deb-a60c-5ca96deec9de",
   "metadata": {},
   "source": [
    "# Training the keypoint detector\n",
    "\n",
    "## Solution description\n",
    "\n",
    "I chose my model's architecture to be: a pretrained backbone (efficient net b1) and a few convolutional layers, with the size final output shape `[batch_size, 1, 1, n_of_keypoints * 3]`.\n",
    "Every keypoint is represented by a three values: $x, y, vis$. \n",
    "\n",
    "### Two ways of handling visible vs invisible\n",
    "Initially I trained training a model only with $x, y$, because these values encode information about $vis$. But it turned out, that because there is less visible objects than those not visible, my model stuck in suboptimal minima, predicting every point to have coordinates $(0, 0)$. That's why a added a seperate task of of predicting a visibility of a keypoint, apart from predictin its coordinates.\n",
    "\n",
    "I could think of two solutions: \n",
    "\n",
    "* a model outputing one vector $(x_1, xy_1, vis_1, \\dots , x_n, y_n, vis_n)$ \n",
    "\n",
    "* a model with two separate branches: one predicting the coordinates and one prediting the visibility.\n",
    "\n",
    "In the latter scenario I could use an L2 loss on the coordinates branch and crossentropy loss on visibility probability branch. But because the the simpler, first solution gave me both precision and recall of predicting visiblity of a keypoint around 97\\% i decided I didn't need this composite loss.\n",
    "\n",
    "### Data augmentation\n",
    "\n",
    "For the data augmentation I used geometric transformation: random rotation, random scale and random translation. I wrote this augmentation functions by my own. I decided not to use any other type of augmentation, e.g. changing color, contrast etc. I think that the dataset  is quite varied in terms of colors, some frames are darker, some are lighter, the grass has different color. \n",
    "\n",
    "### Metrics\n",
    "\n",
    "As I suggested in my DataExploration notebook, to measure how well the model is dealing with insvisible keypoints I measured precision and recall of predicting that a keypoint is visible. Additionally, after each epoch I logged a graph into a Tensorboard, showing a confusion matrix calculated on a validation dataset.\n",
    "\n",
    "I also logged predictions for a few first validation images, to visually monitor if the model is improving.\n",
    "\n",
    "### Loss\n",
    "\n",
    "I normalized $x$ and $y$ coordinates to be between $0$ and $1$, and so is $vis$. As I mentioned above, my model outputs a vector $(x_1, xy_1, vis_1, \\dots , x_n, y_n, vis_n)$, where n is the number of keypoints. I used a simple $L2$ loss. "
   ]
  },
  {
   "cell_type": "markdown",
   "id": "e8bf4b4b-5339-407a-be9d-bd97cab503e8",
   "metadata": {},
   "source": [
    "# Imports"
   ]
  },
  {
   "cell_type": "code",
   "execution_count": 1,
   "id": "25b34be7-2547-4fd0-81ad-b7326986527d",
   "metadata": {},
   "outputs": [],
   "source": [
    "%load_ext autoreload\n",
    "%autoreload 2\n",
    "\n",
    "from datetime import datetime\n",
    "from functools import partial\n",
    "import os\n",
    "from pathlib import Path\n",
    "\n",
    "# os.environ['TF_CPP_MIN_LOG_LEVEL'] = '3'\n",
    "\n",
    "from matplotlib import pyplot as plt\n",
    "from sklearn.model_selection import train_test_split\n",
    "import tensorflow as tf\n",
    "\n",
    "from pitch_geo.constants import DATA_FOLDER\n",
    "from pitch_geo import data\n",
    "from pitch_geo.models import models\n",
    "import pitch_geo.models.augmentation as aug\n",
    "# import pitch_geo.models.metrics\n",
    "from pitch_geo.models.metrics import VisiblePrecision, VisibleRecall, XYMeanSquaredError\n",
    "from pitch_geo.models.callbacks import LogConfusionMatrixCallback, LogPredictedImages\n",
    "import pitch_geo.vis_utils as vis_utils"
   ]
  },
  {
   "cell_type": "markdown",
   "id": "b52fe074-ff47-4b2f-80c4-675ff59d7d6d",
   "metadata": {},
   "source": [
    "# Read the data frame"
   ]
  },
  {
   "cell_type": "code",
   "execution_count": 3,
   "id": "7d878534-6f0a-44c8-95c9-c7ad528db6e7",
   "metadata": {},
   "outputs": [],
   "source": [
    "df = data.get_keypoints(dataset='train')"
   ]
  },
  {
   "cell_type": "markdown",
   "id": "b34294f4-4690-437a-9880-f47d5d0a96d4",
   "metadata": {},
   "source": [
    "# Define hyperparameters"
   ]
  },
  {
   "cell_type": "code",
   "execution_count": 4,
   "id": "f1490c67-ab2e-4eac-bd3b-3ac809af03ac",
   "metadata": {},
   "outputs": [],
   "source": [
    "IMG_SIZE = 240\n",
    "BATCH_SIZE = 32\n",
    "EPOCHS = 100\n",
    "NUM_KEYPOINTS = df['kid'].nunique()  # 34 pairs each having x and y coordinates\n",
    "\n",
    "keypoint_ids = sorted(df['kid'].unique())\n",
    "LABELS = {key: value for key, value in zip(range(len(keypoint_ids)), keypoint_ids)}"
   ]
  },
  {
   "cell_type": "markdown",
   "id": "183e5991-2444-4e2d-bc18-db24baa4c433",
   "metadata": {
    "tags": []
   },
   "source": [
    "# Define augmentation"
   ]
  },
  {
   "cell_type": "code",
   "execution_count": 5,
   "id": "27c1abe2-20e2-4629-b530-308d9d6ff6b6",
   "metadata": {
    "tags": []
   },
   "outputs": [],
   "source": [
    "# I have already openCV instlalled. The official albumentations library advices to install it in that way\n",
    "# !pip install -U albumentations --no-binary qudida,albumentations"
   ]
  },
  {
   "cell_type": "code",
   "execution_count": 6,
   "id": "dbc0ae7b-d8cd-4894-8fe0-f2128c8bb547",
   "metadata": {},
   "outputs": [],
   "source": [
    "# augmentations definitions are moved to package"
   ]
  },
  {
   "cell_type": "markdown",
   "id": "ca3d6e67-3a03-4313-a430-c620fab34fe4",
   "metadata": {},
   "source": [
    "# Prepare the data loaders"
   ]
  },
  {
   "cell_type": "markdown",
   "id": "be0e6a5e-90f0-48b7-8895-2843619be4b8",
   "metadata": {},
   "source": [
    "### Train / validation split\n",
    "\n",
    "Split the train data into proportion: 85% train set and 15% validation set"
   ]
  },
  {
   "cell_type": "code",
   "execution_count": 7,
   "id": "280002d5-c089-4219-9769-df35f2099cb4",
   "metadata": {},
   "outputs": [],
   "source": [
    "images_paths = df['image_path'].unique()\n",
    "\n",
    "train_paths, val_paths = train_test_split(images_paths, test_size=0.15, random_state=42, shuffle=True)"
   ]
  },
  {
   "cell_type": "markdown",
   "id": "0947a840-a91c-48d4-bf8a-c730dba3a74f",
   "metadata": {},
   "source": [
    "### Create the data loaders"
   ]
  },
  {
   "cell_type": "code",
   "execution_count": 8,
   "id": "d9ecddbe-5df3-4811-844f-92482b079b34",
   "metadata": {},
   "outputs": [
    {
     "name": "stderr",
     "output_type": "stream",
     "text": [
      "2022-11-24 09:41:39.808618: I tensorflow/stream_executor/cuda/cuda_gpu_executor.cc:975] successful NUMA node read from SysFS had negative value (-1), but there must be at least one NUMA node, so returning NUMA node zero\n",
      "2022-11-24 09:41:39.843322: I tensorflow/stream_executor/cuda/cuda_gpu_executor.cc:975] successful NUMA node read from SysFS had negative value (-1), but there must be at least one NUMA node, so returning NUMA node zero\n",
      "2022-11-24 09:41:39.843754: I tensorflow/stream_executor/cuda/cuda_gpu_executor.cc:975] successful NUMA node read from SysFS had negative value (-1), but there must be at least one NUMA node, so returning NUMA node zero\n",
      "2022-11-24 09:41:39.845930: I tensorflow/core/platform/cpu_feature_guard.cc:193] This TensorFlow binary is optimized with oneAPI Deep Neural Network Library (oneDNN) to use the following CPU instructions in performance-critical operations:  AVX2 FMA\n",
      "To enable them in other operations, rebuild TensorFlow with the appropriate compiler flags.\n",
      "2022-11-24 09:41:39.847815: I tensorflow/stream_executor/cuda/cuda_gpu_executor.cc:975] successful NUMA node read from SysFS had negative value (-1), but there must be at least one NUMA node, so returning NUMA node zero\n",
      "2022-11-24 09:41:39.848241: I tensorflow/stream_executor/cuda/cuda_gpu_executor.cc:975] successful NUMA node read from SysFS had negative value (-1), but there must be at least one NUMA node, so returning NUMA node zero\n",
      "2022-11-24 09:41:39.848621: I tensorflow/stream_executor/cuda/cuda_gpu_executor.cc:975] successful NUMA node read from SysFS had negative value (-1), but there must be at least one NUMA node, so returning NUMA node zero\n",
      "2022-11-24 09:41:40.645488: I tensorflow/stream_executor/cuda/cuda_gpu_executor.cc:975] successful NUMA node read from SysFS had negative value (-1), but there must be at least one NUMA node, so returning NUMA node zero\n",
      "2022-11-24 09:41:40.645703: I tensorflow/stream_executor/cuda/cuda_gpu_executor.cc:975] successful NUMA node read from SysFS had negative value (-1), but there must be at least one NUMA node, so returning NUMA node zero\n",
      "2022-11-24 09:41:40.645877: I tensorflow/stream_executor/cuda/cuda_gpu_executor.cc:975] successful NUMA node read from SysFS had negative value (-1), but there must be at least one NUMA node, so returning NUMA node zero\n",
      "2022-11-24 09:41:40.645987: W tensorflow/core/common_runtime/gpu/gpu_bfc_allocator.cc:42] Overriding orig_value setting because the TF_FORCE_GPU_ALLOW_GROWTH environment variable is set. Original config value was 0.\n",
      "2022-11-24 09:41:40.646011: I tensorflow/core/common_runtime/gpu/gpu_device.cc:1532] Created device /job:localhost/replica:0/task:0/device:GPU:0 with 4560 MB memory:  -> device: 0, name: NVIDIA GeForce RTX 2060, pci bus id: 0000:01:00.0, compute capability: 7.5\n"
     ]
    }
   ],
   "source": [
    "AUTOTUNE = tf.data.AUTOTUNE\n",
    "\n",
    "train_ds = data.get_data_loader(paths=train_paths, df=df, image_size=IMG_SIZE, autotune=AUTOTUNE)\n",
    "val_ds = data.get_data_loader(paths=val_paths, df=df, image_size=IMG_SIZE, autotune=AUTOTUNE)"
   ]
  },
  {
   "cell_type": "code",
   "execution_count": 9,
   "id": "e9faab4d-d085-4d18-ba17-71b274d3e3f5",
   "metadata": {},
   "outputs": [],
   "source": [
    "train_ds = (\n",
    "    train_ds\n",
    "    .shuffle(4000)\n",
    "    .map(\n",
    "        lambda image, keypoints: tf.numpy_function(func=aug.random_rotate, inp=[image, keypoints, 10, (0.5, 0.8)], Tout=[tf.float32, tf.float16]),\n",
    "        num_parallel_calls=AUTOTUNE\n",
    "    )\n",
    "    .map(\n",
    "        lambda image, keypoints: tf.numpy_function(func=aug.random_translate, inp=[image, keypoints, 0.3], Tout=[tf.float32, tf.float16]),\n",
    "        num_parallel_calls=AUTOTUNE\n",
    "    )\n",
    "    .map(lambda image, keypoints: (image, tf.reshape(keypoints, [1, 1, NUM_KEYPOINTS * 3])), num_parallel_calls=AUTOTUNE)\n",
    "    .map(\n",
    "        partial(aug.set_shapes, img_shape=(IMG_SIZE, IMG_SIZE, 3), labels_shape=(1, 1, NUM_KEYPOINTS * 3)), \n",
    "        num_parallel_calls=AUTOTUNE\n",
    "    )\n",
    "    .batch(BATCH_SIZE)\n",
    "    .prefetch(buffer_size=AUTOTUNE)\n",
    ")"
   ]
  },
  {
   "cell_type": "code",
   "execution_count": 10,
   "id": "615ffccf-8d7f-482e-b527-1ab517edd1c8",
   "metadata": {},
   "outputs": [],
   "source": [
    "val_ds = (\n",
    "    val_ds\n",
    "    .map(lambda image, keypoints: (image, tf.reshape(keypoints, [1, 1, NUM_KEYPOINTS * 3])), num_parallel_calls=AUTOTUNE)\n",
    "    .map(\n",
    "        partial(aug.set_shapes, img_shape=(IMG_SIZE, IMG_SIZE, 3), labels_shape=(1, 1, NUM_KEYPOINTS * 3)),\n",
    "        num_parallel_calls=AUTOTUNE\n",
    "    )\n",
    "    .batch(BATCH_SIZE)\n",
    "    .prefetch(buffer_size=AUTOTUNE)\n",
    ")"
   ]
  },
  {
   "cell_type": "markdown",
   "id": "7d7eae22-ea9f-4299-8b5c-b61c91a1780f",
   "metadata": {},
   "source": [
    "Visualize data from the data loader to see it everything works fine"
   ]
  },
  {
   "cell_type": "code",
   "execution_count": 11,
   "id": "c2bda494-93ab-42ff-b224-fa413058211c",
   "metadata": {},
   "outputs": [],
   "source": [
    "# sample_batch = next(iter(train_ds))\n",
    "# _ = vis_utils.show_image_with_annotations(sample_batch[0].numpy()[0,:] / 255., sample_batch[1].numpy()[0,:], dot_radius=3, vis=True)"
   ]
  },
  {
   "cell_type": "code",
   "execution_count": 12,
   "id": "1c1541ea-af4f-4c65-82e4-6e70902c1cc9",
   "metadata": {},
   "outputs": [
    {
     "name": "stdout",
     "output_type": "stream",
     "text": [
      "Total batches in training set: 102\n",
      "Total batches in validation set: 18\n"
     ]
    }
   ],
   "source": [
    "print(f\"Total batches in training set: {len(train_ds)}\")\n",
    "print(f\"Total batches in validation set: {len(val_ds)}\")"
   ]
  },
  {
   "cell_type": "markdown",
   "id": "4f989f5a-b5ad-4d19-acae-6b39f497e08f",
   "metadata": {
    "tags": []
   },
   "source": [
    "# The model\n",
    "\n",
    "## Get the model\n",
    "\n",
    "The model is built with the `get_model` function. "
   ]
  },
  {
   "cell_type": "code",
   "execution_count": 13,
   "id": "7d175d49-9ada-4abb-9b1e-4eaa3a39ad57",
   "metadata": {},
   "outputs": [],
   "source": [
    "model = models.get_model(img_size=IMG_SIZE, num_keypoints=NUM_KEYPOINTS, dropout=0.1)"
   ]
  },
  {
   "cell_type": "code",
   "execution_count": 14,
   "id": "327bafbf-aca1-4b70-919e-225bb655ba4b",
   "metadata": {},
   "outputs": [
    {
     "name": "stdout",
     "output_type": "stream",
     "text": [
      "Model: \"keypoint_detector\"\n",
      "_________________________________________________________________\n",
      " Layer (type)                Output Shape              Param #   \n",
      "=================================================================\n",
      " input_2 (InputLayer)        [(None, 240, 240, 3)]     0         \n",
      "                                                                 \n",
      " efficientnetb1 (Functional)  (None, 8, 8, 1280)       6575239   \n",
      "                                                                 \n",
      " conv2d (Conv2D)             (None, 8, 8, 512)         5898752   \n",
      "                                                                 \n",
      " conv2d_1 (Conv2D)           (None, 4, 4, 256)         1179904   \n",
      "                                                                 \n",
      " conv2d_2 (Conv2D)           (None, 2, 2, 256)         262400    \n",
      "                                                                 \n",
      " dropout (Dropout)           (None, 2, 2, 256)         0         \n",
      "                                                                 \n",
      " conv2d_3 (Conv2D)           (None, 1, 1, 102)         104550    \n",
      "                                                                 \n",
      "=================================================================\n",
      "Total params: 14,020,845\n",
      "Trainable params: 7,445,606\n",
      "Non-trainable params: 6,575,239\n",
      "_________________________________________________________________\n"
     ]
    }
   ],
   "source": [
    "model.summary()"
   ]
  },
  {
   "cell_type": "markdown",
   "id": "d3c88040-27e8-4f93-bbd0-dd3d1b7a9a28",
   "metadata": {},
   "source": [
    "## Define callbacks\n",
    "\n",
    "Callbacks used during the training loop."
   ]
  },
  {
   "cell_type": "code",
   "execution_count": 15,
   "id": "d909deba-cf56-4276-9dc8-e48afc2bf109",
   "metadata": {},
   "outputs": [],
   "source": [
    "model_base_path = Path('checkpoints')\n",
    "checkpoint_template_name = 'saved_model.{epoch:03d}-{val_loss:.6f}'\n",
    "training_timestamp = datetime.now().strftime('%Y%m%d_%H%M%S')\n",
    "model_path = model_base_path / training_timestamp / checkpoint_template_name\n",
    "log_dir = Path('logs') / training_timestamp\n",
    "\n",
    "model_checkpoint_callback = tf.keras.callbacks.ModelCheckpoint(\n",
    "    filepath=model_path,\n",
    "    monitor=\"val_loss\",\n",
    "    save_best_only=True,\n",
    "    save_weights_only=True,\n",
    "    mode=\"auto\",\n",
    "    save_freq=\"epoch\",\n",
    ")\n",
    "\n",
    "tensorboard_callback = tf.keras.callbacks.TensorBoard(\n",
    "    log_dir=log_dir,\n",
    "    write_graph=False\n",
    ")\n",
    "\n",
    "reduce_lr = tf.keras.callbacks.ReduceLROnPlateau(\n",
    "    monitor='val_loss', \n",
    "    factor=0.2,\n",
    "    patience=5, \n",
    "    min_delta=0.0001,\n",
    "    min_lr=0.000001,\n",
    "    verbose=1\n",
    ")\n",
    "\n",
    "early_stopping = tf.keras.callbacks.EarlyStopping(\n",
    "    monitor='val_loss',\n",
    "    patience=8,\n",
    "    min_delta=0.00001,\n",
    "    verbose=1,\n",
    ")\n",
    "\n",
    "log_cm = LogConfusionMatrixCallback(model, log_dir, val_ds)\n",
    "cm_callback = tf.keras.callbacks.LambdaCallback(on_epoch_end=log_cm)\n",
    "\n",
    "log_predicted_images = LogPredictedImages(model, log_dir, val_ds, labels=LABELS)\n",
    "log_images_callback = tf.keras.callbacks.LambdaCallback(on_epoch_end=log_predicted_images, grid_size=4)"
   ]
  },
  {
   "cell_type": "markdown",
   "id": "a46ee08f-a0aa-4a49-9c71-4db965a3d9c4",
   "metadata": {},
   "source": [
    "## Compile the model"
   ]
  },
  {
   "cell_type": "markdown",
   "id": "c9f4d0da-d987-424a-a930-abd106e2ff76",
   "metadata": {},
   "source": [
    "## Train the model"
   ]
  },
  {
   "cell_type": "code",
   "execution_count": 16,
   "id": "bf3d5d2f-5b03-46be-a6b1-8641719bd60e",
   "metadata": {},
   "outputs": [
    {
     "name": "stdout",
     "output_type": "stream",
     "text": [
      "Using matplotlib backend: <object object at 0x7fca280e48b0>\n",
      "Epoch 1/100\n"
     ]
    },
    {
     "name": "stderr",
     "output_type": "stream",
     "text": [
      "2022-11-24 09:41:58.714574: I tensorflow/stream_executor/cuda/cuda_dnn.cc:384] Loaded cuDNN version 8100\n",
      "2022-11-24 09:42:01.448576: W tensorflow/core/common_runtime/bfc_allocator.cc:360] Garbage collection: deallocate free memory regions (i.e., allocations) so that we can re-allocate a larger region to avoid OOM due to memory fragmentation. If you see this message frequently, you are running near the threshold of the available device memory and re-allocation may incur great performance overhead. You may try smaller batch sizes to observe the performance impact. Set TF_ENABLE_GPU_GARBAGE_COLLECTION=false if you'd like to disable this feature.\n"
     ]
    },
    {
     "name": "stdout",
     "output_type": "stream",
     "text": [
      "18/18 [==============================] - 4s 126ms/steposs: 0.0633 - visible_precision: 0.7647 - visible\n",
      "1/1 [==============================] - 2s 2s/step\n",
      "102/102 [==============================] - 41s 265ms/step - loss: 0.0633 - visible_precision: 0.7647 - visible_recall: 0.5847 - xy_loss: 0.0632 - val_loss: 0.0247 - val_visible_precision: 0.9118 - val_visible_recall: 0.8951 - val_xy_loss: 0.0247 - lr: 0.0010\n",
      "Epoch 2/100\n"
     ]
    },
    {
     "name": "stderr",
     "output_type": "stream",
     "text": [
      "2022-11-24 09:42:39.008949: I tensorflow/core/kernels/data/shuffle_dataset_op.cc:390] Filling up shuffle buffer (this may take a while): 1841 of 4000\n"
     ]
    },
    {
     "name": "stdout",
     "output_type": "stream",
     "text": [
      "  1/102 [..............................] - ETA: 20:25 - loss: 0.0303 - visible_precision: 0.9364 - visible_recall: 0.8604 - xy_loss: 0.0303"
     ]
    },
    {
     "name": "stderr",
     "output_type": "stream",
     "text": [
      "2022-11-24 09:42:40.965693: I tensorflow/core/kernels/data/shuffle_dataset_op.cc:415] Shuffle buffer filled.\n"
     ]
    },
    {
     "name": "stdout",
     "output_type": "stream",
     "text": [
      "18/18 [==============================] - 2s 125ms/steposs: 0.0280 - visible_precision: 0.8806 - visibl\n",
      "1/1 [==============================] - 0s 39ms/step\n",
      "102/102 [==============================] - 32s 201ms/step - loss: 0.0280 - visible_precision: 0.8806 - visible_recall: 0.8614 - xy_loss: 0.0280 - val_loss: 0.0186 - val_visible_precision: 0.9481 - val_visible_recall: 0.9111 - val_xy_loss: 0.0186 - lr: 0.0010\n",
      "Epoch 3/100\n",
      "18/18 [==============================] - 2s 128ms/steposs: 0.0228 - visible_precision: 0.8999 - visibl\n",
      "1/1 [==============================] - 0s 33ms/step\n",
      "102/102 [==============================] - 27s 223ms/step - loss: 0.0228 - visible_precision: 0.8999 - visible_recall: 0.8919 - xy_loss: 0.0228 - val_loss: 0.0162 - val_visible_precision: 0.9495 - val_visible_recall: 0.9195 - val_xy_loss: 0.0162 - lr: 0.0010\n",
      "Epoch 4/100\n",
      "18/18 [==============================] - 2s 126ms/steposs: 0.0206 - visible_precision: 0.9076 - visibl\n",
      "1/1 [==============================] - 0s 39ms/step\n",
      "102/102 [==============================] - 25s 198ms/step - loss: 0.0206 - visible_precision: 0.9076 - visible_recall: 0.9037 - xy_loss: 0.0206 - val_loss: 0.0154 - val_visible_precision: 0.9518 - val_visible_recall: 0.9293 - val_xy_loss: 0.0154 - lr: 0.0010\n",
      "Epoch 5/100\n",
      "18/18 [==============================] - 2s 125ms/steposs: 0.0191 - visible_precision: 0.9145 - visibl\n",
      "1/1 [==============================] - 0s 30ms/step\n",
      "102/102 [==============================] - 24s 198ms/step - loss: 0.0191 - visible_precision: 0.9145 - visible_recall: 0.9119 - xy_loss: 0.0191 - val_loss: 0.0136 - val_visible_precision: 0.9582 - val_visible_recall: 0.9232 - val_xy_loss: 0.0136 - lr: 0.0010\n",
      "Epoch 6/100\n",
      "18/18 [==============================] - 2s 127ms/steposs: 0.0161 - visible_precision: 0.9302 - visibl\n",
      "1/1 [==============================] - 0s 33ms/step\n",
      "102/102 [==============================] - 24s 195ms/step - loss: 0.0161 - visible_precision: 0.9302 - visible_recall: 0.9265 - xy_loss: 0.0161 - val_loss: 0.0123 - val_visible_precision: 0.9474 - val_visible_recall: 0.9568 - val_xy_loss: 0.0123 - lr: 0.0010\n",
      "Epoch 7/100\n",
      "18/18 [==============================] - 2s 128ms/steposs: 0.0162 - visible_precision: 0.9262 - visibl\n",
      "1/1 [==============================] - 0s 32ms/step\n",
      "102/102 [==============================] - 24s 197ms/step - loss: 0.0162 - visible_precision: 0.9262 - visible_recall: 0.9253 - xy_loss: 0.0162 - val_loss: 0.0117 - val_visible_precision: 0.9566 - val_visible_recall: 0.9515 - val_xy_loss: 0.0117 - lr: 0.0010\n",
      "Epoch 8/100\n",
      "18/18 [==============================] - 2s 127ms/steposs: 0.0157 - visible_precision: 0.9272 - visibl\n",
      "1/1 [==============================] - 0s 36ms/step\n",
      "102/102 [==============================] - 24s 197ms/step - loss: 0.0157 - visible_precision: 0.9272 - visible_recall: 0.9249 - xy_loss: 0.0158 - val_loss: 0.0123 - val_visible_precision: 0.9552 - val_visible_recall: 0.9466 - val_xy_loss: 0.0123 - lr: 0.0010\n",
      "Epoch 9/100\n",
      "18/18 [==============================] - 2s 125ms/steposs: 0.0147 - visible_precision: 0.9312 - visibl\n",
      "1/1 [==============================] - 0s 45ms/step\n",
      "102/102 [==============================] - 24s 197ms/step - loss: 0.0147 - visible_precision: 0.9312 - visible_recall: 0.9314 - xy_loss: 0.0147 - val_loss: 0.0114 - val_visible_precision: 0.9492 - val_visible_recall: 0.9633 - val_xy_loss: 0.0114 - lr: 0.0010\n",
      "Epoch 10/100\n",
      "18/18 [==============================] - 2s 127ms/steposs: 0.0144 - visible_precision: 0.9343 - visibl\n",
      "1/1 [==============================] - 0s 32ms/step\n",
      "102/102 [==============================] - 24s 195ms/step - loss: 0.0144 - visible_precision: 0.9343 - visible_recall: 0.9318 - xy_loss: 0.0144 - val_loss: 0.0109 - val_visible_precision: 0.9589 - val_visible_recall: 0.9531 - val_xy_loss: 0.0109 - lr: 0.0010\n",
      "Epoch 11/100\n",
      "18/18 [==============================] - 2s 127ms/steposs: 0.0140 - visible_precision: 0.9361 - visibl\n",
      "1/1 [==============================] - 0s 36ms/step\n",
      "102/102 [==============================] - 24s 198ms/step - loss: 0.0140 - visible_precision: 0.9361 - visible_recall: 0.9375 - xy_loss: 0.0140 - val_loss: 0.0104 - val_visible_precision: 0.9611 - val_visible_recall: 0.9519 - val_xy_loss: 0.0104 - lr: 0.0010\n",
      "Epoch 12/100\n",
      "18/18 [==============================] - 2s 126ms/steposs: 0.0130 - visible_precision: 0.9410 - visibl\n",
      "1/1 [==============================] - 0s 33ms/step\n",
      "102/102 [==============================] - 24s 194ms/step - loss: 0.0130 - visible_precision: 0.9410 - visible_recall: 0.9397 - xy_loss: 0.0130 - val_loss: 0.0108 - val_visible_precision: 0.9586 - val_visible_recall: 0.9539 - val_xy_loss: 0.0108 - lr: 0.0010\n",
      "Epoch 13/100\n",
      "18/18 [==============================] - 2s 125ms/steposs: 0.0131 - visible_precision: 0.9402 - visibl\n",
      "1/1 [==============================] - 0s 38ms/step\n",
      "102/102 [==============================] - 24s 194ms/step - loss: 0.0131 - visible_precision: 0.9402 - visible_recall: 0.9402 - xy_loss: 0.0131 - val_loss: 0.0109 - val_visible_precision: 0.9669 - val_visible_recall: 0.9420 - val_xy_loss: 0.0109 - lr: 0.0010\n",
      "Epoch 14/100\n",
      "18/18 [==============================] - 2s 125ms/steposs: 0.0131 - visible_precision: 0.9393 - visibl\n",
      "1/1 [==============================] - 0s 31ms/step\n",
      "102/102 [==============================] - 28s 195ms/step - loss: 0.0131 - visible_precision: 0.9393 - visible_recall: 0.9414 - xy_loss: 0.0131 - val_loss: 0.0104 - val_visible_precision: 0.9600 - val_visible_recall: 0.9568 - val_xy_loss: 0.0104 - lr: 0.0010\n",
      "Epoch 15/100\n",
      "18/18 [==============================] - 2s 126ms/steposs: 0.0121 - visible_precision: 0.9445 - visi\n",
      "1/1 [==============================] - 0s 33ms/step\n",
      "102/102 [==============================] - 24s 198ms/step - loss: 0.0121 - visible_precision: 0.9445 - visible_recall: 0.9443 - xy_loss: 0.0121 - val_loss: 0.0100 - val_visible_precision: 0.9570 - val_visible_recall: 0.9619 - val_xy_loss: 0.0100 - lr: 0.0010\n",
      "Epoch 16/100\n",
      "18/18 [==============================] - 2s 126ms/steposs: 0.0119 - visible_precision: 0.9480 - visibl\n",
      "1/1 [==============================] - 0s 32ms/step\n",
      "102/102 [==============================] - 24s 194ms/step - loss: 0.0119 - visible_precision: 0.9480 - visible_recall: 0.9454 - xy_loss: 0.0119 - val_loss: 0.0111 - val_visible_precision: 0.9606 - val_visible_recall: 0.9482 - val_xy_loss: 0.0111 - lr: 0.0010\n",
      "Epoch 17/100\n",
      "18/18 [==============================] - 2s 128ms/steposs: 0.0120 - visible_precision: 0.9439 - visibl\n",
      "1/1 [==============================] - 0s 31ms/step\n",
      "102/102 [==============================] - 24s 194ms/step - loss: 0.0120 - visible_precision: 0.9439 - visible_recall: 0.9442 - xy_loss: 0.0120 - val_loss: 0.0104 - val_visible_precision: 0.9482 - val_visible_recall: 0.9697 - val_xy_loss: 0.0103 - lr: 0.0010\n",
      "Epoch 18/100\n",
      "18/18 [==============================] - 2s 129ms/steposs: 0.0124 - visible_precision: 0.9412 - visibl\n",
      "1/1 [==============================] - 0s 33ms/step\n",
      "102/102 [==============================] - 25s 201ms/step - loss: 0.0124 - visible_precision: 0.9412 - visible_recall: 0.9434 - xy_loss: 0.0124 - val_loss: 0.0097 - val_visible_precision: 0.9578 - val_visible_recall: 0.9637 - val_xy_loss: 0.0097 - lr: 0.0010\n",
      "Epoch 19/100\n",
      "18/18 [==============================] - 2s 127ms/steposs: 0.0113 - visible_precision: 0.9468 - visibl\n",
      "1/1 [==============================] - 0s 34ms/step\n",
      "102/102 [==============================] - 24s 198ms/step - loss: 0.0113 - visible_precision: 0.9468 - visible_recall: 0.9502 - xy_loss: 0.0113 - val_loss: 0.0096 - val_visible_precision: 0.9601 - val_visible_recall: 0.9631 - val_xy_loss: 0.0096 - lr: 0.0010\n",
      "Epoch 20/100\n",
      "18/18 [==============================] - 2s 125ms/steposs: 0.0109 - visible_precision: 0.9498 - visibl\n",
      "1/1 [==============================] - 0s 39ms/step\n"
     ]
    },
    {
     "name": "stderr",
     "output_type": "stream",
     "text": [
      "/home/tensorflow-user/.local/lib/python3.8/site-packages/sklearn/metrics/_plot/confusion_matrix.py:114: RuntimeWarning: More than 20 figures have been opened. Figures created through the pyplot interface (`matplotlib.pyplot.figure`) are retained until explicitly closed and may consume too much memory. (To control this warning, see the rcParam `figure.max_open_warning`). Consider using `matplotlib.pyplot.close()`.\n",
      "  fig, ax = plt.subplots()\n",
      "/workspace/pitch_geo/models/callbacks.py:97: RuntimeWarning: More than 20 figures have been opened. Figures created through the pyplot interface (`matplotlib.pyplot.figure`) are retained until explicitly closed and may consume too much memory. (To control this warning, see the rcParam `figure.max_open_warning`). Consider using `matplotlib.pyplot.close()`.\n",
      "  figure, axes = plt.subplots(self.grid_size, self.grid_size, figsize=(10, 10))\n"
     ]
    },
    {
     "name": "stdout",
     "output_type": "stream",
     "text": [
      "102/102 [==============================] - 24s 191ms/step - loss: 0.0109 - visible_precision: 0.9498 - visible_recall: 0.9514 - xy_loss: 0.0109 - val_loss: 0.0103 - val_visible_precision: 0.9492 - val_visible_recall: 0.9679 - val_xy_loss: 0.0103 - lr: 0.0010\n",
      "Epoch 21/100\n"
     ]
    },
    {
     "name": "stderr",
     "output_type": "stream",
     "text": [
      "2022-11-24 09:50:32.355589: I tensorflow/core/kernels/data/shuffle_dataset_op.cc:390] Filling up shuffle buffer (this may take a while): 877 of 4000\n"
     ]
    },
    {
     "name": "stdout",
     "output_type": "stream",
     "text": [
      "  1/102 [..............................] - ETA: 22:22 - loss: 0.0077 - visible_precision: 0.9799 - visible_recall: 0.9607 - xy_loss: 0.0077"
     ]
    },
    {
     "name": "stderr",
     "output_type": "stream",
     "text": [
      "2022-11-24 09:50:35.479224: I tensorflow/core/kernels/data/shuffle_dataset_op.cc:415] Shuffle buffer filled.\n"
     ]
    },
    {
     "name": "stdout",
     "output_type": "stream",
     "text": [
      "18/18 [==============================] - 2s 125ms/steposs: 0.0116 - visible_precision: 0.9463 - visibl\n",
      "1/1 [==============================] - 0s 37ms/step\n"
     ]
    },
    {
     "name": "stderr",
     "output_type": "stream",
     "text": [
      "/workspace/pitch_geo/models/callbacks.py:59: RuntimeWarning: More than 20 figures have been opened. Figures created through the pyplot interface (`matplotlib.pyplot.figure`) are retained until explicitly closed and may consume too much memory. (To control this warning, see the rcParam `figure.max_open_warning`). Consider using `matplotlib.pyplot.close()`.\n",
      "  figure = plt.figure(figsize=(8, 8))\n"
     ]
    },
    {
     "name": "stdout",
     "output_type": "stream",
     "text": [
      "102/102 [==============================] - 33s 194ms/step - loss: 0.0116 - visible_precision: 0.9463 - visible_recall: 0.9471 - xy_loss: 0.0116 - val_loss: 0.0101 - val_visible_precision: 0.9587 - val_visible_recall: 0.9623 - val_xy_loss: 0.0101 - lr: 0.0010\n",
      "Epoch 22/100\n"
     ]
    },
    {
     "name": "stderr",
     "output_type": "stream",
     "text": [
      "2022-11-24 09:51:05.255337: I tensorflow/core/kernels/data/shuffle_dataset_op.cc:390] Filling up shuffle buffer (this may take a while): 2012 of 4000\n"
     ]
    },
    {
     "name": "stdout",
     "output_type": "stream",
     "text": [
      "  1/102 [..............................] - ETA: 20:03 - loss: 0.0113 - visible_precision: 0.9519 - visible_recall: 0.9554 - xy_loss: 0.0113"
     ]
    },
    {
     "name": "stderr",
     "output_type": "stream",
     "text": [
      "2022-11-24 09:51:06.988725: I tensorflow/core/kernels/data/shuffle_dataset_op.cc:415] Shuffle buffer filled.\n"
     ]
    },
    {
     "name": "stdout",
     "output_type": "stream",
     "text": [
      "18/18 [==============================] - 2s 125ms/steposs: 0.0111 - visible_precision: 0.9487 - visibl\n",
      "1/1 [==============================] - 0s 28ms/step\n",
      "102/102 [==============================] - 32s 194ms/step - loss: 0.0111 - visible_precision: 0.9487 - visible_recall: 0.9487 - xy_loss: 0.0111 - val_loss: 0.0108 - val_visible_precision: 0.9589 - val_visible_recall: 0.9480 - val_xy_loss: 0.0108 - lr: 0.0010\n",
      "Epoch 23/100\n",
      "18/18 [==============================] - 2s 125ms/steposs: 0.0109 - visible_precision: 0.9495 - visibl\n",
      "1/1 [==============================] - 0s 36ms/step\n",
      "102/102 [==============================] - 29s 197ms/step - loss: 0.0109 - visible_precision: 0.9495 - visible_recall: 0.9491 - xy_loss: 0.0109 - val_loss: 0.0095 - val_visible_precision: 0.9609 - val_visible_recall: 0.9642 - val_xy_loss: 0.0095 - lr: 0.0010\n",
      "Epoch 24/100\n",
      "102/102 [==============================] - ETA: 0s - loss: 0.0108 - visible_precision: 0.9503 - visible_recall: 0.9513 - xy_loss: 0.0107\n",
      "Epoch 24: ReduceLROnPlateau reducing learning rate to 0.00020000000949949026.\n",
      "18/18 [==============================] - 2s 127ms/step\n",
      "1/1 [==============================] - 0s 40ms/step\n",
      "102/102 [==============================] - 24s 193ms/step - loss: 0.0108 - visible_precision: 0.9503 - visible_recall: 0.9513 - xy_loss: 0.0107 - val_loss: 0.0096 - val_visible_precision: 0.9681 - val_visible_recall: 0.9554 - val_xy_loss: 0.0096 - lr: 0.0010\n",
      "Epoch 25/100\n",
      "18/18 [==============================] - 2s 126ms/steposs: 0.0094 - visible_precision: 0.9551 - visibl\n",
      "1/1 [==============================] - 0s 32ms/step\n",
      "102/102 [==============================] - 24s 198ms/step - loss: 0.0094 - visible_precision: 0.9551 - visible_recall: 0.9579 - xy_loss: 0.0094 - val_loss: 0.0087 - val_visible_precision: 0.9622 - val_visible_recall: 0.9660 - val_xy_loss: 0.0087 - lr: 2.0000e-04\n",
      "Epoch 26/100\n",
      "18/18 [==============================] - 2s 125ms/steposs: 0.0087 - visible_precision: 0.9594 - visibl\n",
      "1/1 [==============================] - 0s 31ms/step\n",
      "102/102 [==============================] - 24s 197ms/step - loss: 0.0087 - visible_precision: 0.9594 - visible_recall: 0.9618 - xy_loss: 0.0087 - val_loss: 0.0085 - val_visible_precision: 0.9667 - val_visible_recall: 0.9654 - val_xy_loss: 0.0085 - lr: 2.0000e-04\n",
      "Epoch 27/100\n",
      "18/18 [==============================] - 2s 129ms/steposs: 0.0084 - visible_precision: 0.9595 - visibl\n",
      "1/1 [==============================] - 0s 34ms/step\n",
      "102/102 [==============================] - 24s 196ms/step - loss: 0.0084 - visible_precision: 0.9595 - visible_recall: 0.9644 - xy_loss: 0.0084 - val_loss: 0.0084 - val_visible_precision: 0.9654 - val_visible_recall: 0.9662 - val_xy_loss: 0.0084 - lr: 2.0000e-04\n",
      "Epoch 28/100\n",
      "18/18 [==============================] - 2s 127ms/steposs: 0.0083 - visible_precision: 0.9609 - visibl\n",
      "1/1 [==============================] - 0s 35ms/step\n",
      "102/102 [==============================] - 24s 199ms/step - loss: 0.0083 - visible_precision: 0.9609 - visible_recall: 0.9630 - xy_loss: 0.0083 - val_loss: 0.0081 - val_visible_precision: 0.9685 - val_visible_recall: 0.9670 - val_xy_loss: 0.0081 - lr: 2.0000e-04\n",
      "Epoch 29/100\n",
      "18/18 [==============================] - 2s 125ms/steposs: 0.0082 - visible_precision: 0.9608 - visibl\n",
      "1/1 [==============================] - 0s 39ms/step\n",
      "102/102 [==============================] - 24s 192ms/step - loss: 0.0082 - visible_precision: 0.9608 - visible_recall: 0.9637 - xy_loss: 0.0082 - val_loss: 0.0081 - val_visible_precision: 0.9661 - val_visible_recall: 0.9679 - val_xy_loss: 0.0081 - lr: 2.0000e-04\n",
      "Epoch 30/100\n",
      "18/18 [==============================] - 2s 127ms/steposs: 0.0078 - visible_precision: 0.9636 - visibl\n",
      "1/1 [==============================] - 0s 29ms/step\n",
      "102/102 [==============================] - 25s 195ms/step - loss: 0.0078 - visible_precision: 0.9636 - visible_recall: 0.9653 - xy_loss: 0.0078 - val_loss: 0.0082 - val_visible_precision: 0.9732 - val_visible_recall: 0.9586 - val_xy_loss: 0.0082 - lr: 2.0000e-04\n",
      "Epoch 31/100\n",
      "18/18 [==============================] - 2s 127ms/steposs: 0.0079 - visible_precision: 0.9632 - visi\n",
      "1/1 [==============================] - 0s 33ms/step\n",
      "102/102 [==============================] - 24s 197ms/step - loss: 0.0079 - visible_precision: 0.9632 - visible_recall: 0.9644 - xy_loss: 0.0079 - val_loss: 0.0079 - val_visible_precision: 0.9648 - val_visible_recall: 0.9695 - val_xy_loss: 0.0079 - lr: 2.0000e-04\n",
      "Epoch 32/100\n",
      "18/18 [==============================] - 2s 126ms/steposs: 0.0077 - visible_precision: 0.9637 - visibl\n",
      "1/1 [==============================] - 0s 49ms/step\n",
      "102/102 [==============================] - 24s 197ms/step - loss: 0.0077 - visible_precision: 0.9637 - visible_recall: 0.9671 - xy_loss: 0.0077 - val_loss: 0.0078 - val_visible_precision: 0.9696 - val_visible_recall: 0.9662 - val_xy_loss: 0.0078 - lr: 2.0000e-04\n",
      "Epoch 33/100\n",
      "18/18 [==============================] - 2s 125ms/steposs: 0.0076 - visible_precision: 0.9636 - visi\n",
      "1/1 [==============================] - 0s 40ms/step\n",
      "102/102 [==============================] - 29s 199ms/step - loss: 0.0076 - visible_precision: 0.9636 - visible_recall: 0.9663 - xy_loss: 0.0076 - val_loss: 0.0077 - val_visible_precision: 0.9691 - val_visible_recall: 0.9674 - val_xy_loss: 0.0077 - lr: 2.0000e-04\n",
      "Epoch 34/100\n",
      "18/18 [==============================] - 2s 125ms/steposs: 0.0078 - visible_precision: 0.9629 - visibl\n",
      "1/1 [==============================] - 0s 48ms/step\n",
      "102/102 [==============================] - 24s 192ms/step - loss: 0.0078 - visible_precision: 0.9629 - visible_recall: 0.9666 - xy_loss: 0.0078 - val_loss: 0.0077 - val_visible_precision: 0.9707 - val_visible_recall: 0.9648 - val_xy_loss: 0.0077 - lr: 2.0000e-04\n",
      "Epoch 35/100\n"
     ]
    },
    {
     "name": "stderr",
     "output_type": "stream",
     "text": [
      "2022-11-24 09:56:36.415399: I tensorflow/core/kernels/data/shuffle_dataset_op.cc:390] Filling up shuffle buffer (this may take a while): 1064 of 4000\n"
     ]
    },
    {
     "name": "stdout",
     "output_type": "stream",
     "text": [
      "  1/102 [..............................] - ETA: 21:58 - loss: 0.0063 - visible_precision: 0.9837 - visible_recall: 0.9649 - xy_loss: 0.0063"
     ]
    },
    {
     "name": "stderr",
     "output_type": "stream",
     "text": [
      "2022-11-24 09:56:39.289225: I tensorflow/core/kernels/data/shuffle_dataset_op.cc:415] Shuffle buffer filled.\n"
     ]
    },
    {
     "name": "stdout",
     "output_type": "stream",
     "text": [
      "18/18 [==============================] - 2s 128ms/steposs: 0.0074 - visible_precision: 0.9660 - visibl\n",
      "1/1 [==============================] - 0s 38ms/step\n",
      "102/102 [==============================] - 33s 202ms/step - loss: 0.0074 - visible_precision: 0.9660 - visible_recall: 0.9682 - xy_loss: 0.0074 - val_loss: 0.0077 - val_visible_precision: 0.9697 - val_visible_recall: 0.9685 - val_xy_loss: 0.0077 - lr: 2.0000e-04\n",
      "Epoch 36/100\n",
      "18/18 [==============================] - 2s 125ms/steposs: 0.0071 - visible_precision: 0.9677 - visibl\n",
      "1/1 [==============================] - 0s 46ms/step\n",
      "102/102 [==============================] - 25s 201ms/step - loss: 0.0071 - visible_precision: 0.9677 - visible_recall: 0.9676 - xy_loss: 0.0072 - val_loss: 0.0075 - val_visible_precision: 0.9678 - val_visible_recall: 0.9705 - val_xy_loss: 0.0075 - lr: 2.0000e-04\n",
      "Epoch 37/100\n",
      "18/18 [==============================] - 2s 125ms/steposs: 0.0073 - visible_precision: 0.9651 - visibl\n",
      "1/1 [==============================] - 0s 36ms/step\n",
      "102/102 [==============================] - 24s 195ms/step - loss: 0.0073 - visible_precision: 0.9651 - visible_recall: 0.9686 - xy_loss: 0.0073 - val_loss: 0.0076 - val_visible_precision: 0.9693 - val_visible_recall: 0.9676 - val_xy_loss: 0.0076 - lr: 2.0000e-04\n",
      "Epoch 38/100\n",
      "18/18 [==============================] - 2s 126ms/steposs: 0.0073 - visible_precision: 0.9655 - visibl\n",
      "1/1 [==============================] - 0s 34ms/step\n",
      "102/102 [==============================] - 25s 199ms/step - loss: 0.0073 - visible_precision: 0.9655 - visible_recall: 0.9667 - xy_loss: 0.0073 - val_loss: 0.0078 - val_visible_precision: 0.9672 - val_visible_recall: 0.9693 - val_xy_loss: 0.0078 - lr: 2.0000e-04\n",
      "Epoch 39/100\n",
      "18/18 [==============================] - 2s 123ms/steposs: 0.0070 - visible_precision: 0.9669 - visibl\n",
      "1/1 [==============================] - 0s 32ms/step\n",
      "102/102 [==============================] - 26s 196ms/step - loss: 0.0070 - visible_precision: 0.9669 - visible_recall: 0.9699 - xy_loss: 0.0070 - val_loss: 0.0076 - val_visible_precision: 0.9684 - val_visible_recall: 0.9697 - val_xy_loss: 0.0076 - lr: 2.0000e-04\n",
      "Epoch 40/100\n"
     ]
    },
    {
     "name": "stderr",
     "output_type": "stream",
     "text": [
      "2022-11-24 09:58:49.254517: I tensorflow/core/kernels/data/shuffle_dataset_op.cc:390] Filling up shuffle buffer (this may take a while): 1763 of 4000\n"
     ]
    },
    {
     "name": "stdout",
     "output_type": "stream",
     "text": [
      "  1/102 [..............................] - ETA: 20:38 - loss: 0.0084 - visible_precision: 0.9568 - visible_recall: 0.9744 - xy_loss: 0.0084"
     ]
    },
    {
     "name": "stderr",
     "output_type": "stream",
     "text": [
      "2022-11-24 09:58:51.329467: I tensorflow/core/kernels/data/shuffle_dataset_op.cc:415] Shuffle buffer filled.\n"
     ]
    },
    {
     "name": "stdout",
     "output_type": "stream",
     "text": [
      "18/18 [==============================] - 2s 125ms/steposs: 0.0071 - visible_precision: 0.9668 - visible_\n",
      "1/1 [==============================] - 0s 35ms/step\n",
      "102/102 [==============================] - 32s 193ms/step - loss: 0.0071 - visible_precision: 0.9668 - visible_recall: 0.9698 - xy_loss: 0.0071 - val_loss: 0.0076 - val_visible_precision: 0.9674 - val_visible_recall: 0.9681 - val_xy_loss: 0.0076 - lr: 2.0000e-04\n",
      "Epoch 41/100\n",
      "102/102 [==============================] - ETA: 0s - loss: 0.0070 - visible_precision: 0.9675 - visible_recall: 0.9694 - xy_loss: 0.0070\n",
      "Epoch 41: ReduceLROnPlateau reducing learning rate to 4.0000001899898055e-05.\n",
      "18/18 [==============================] - 2s 125ms/step\n",
      "1/1 [==============================] - 0s 27ms/step\n",
      "102/102 [==============================] - 24s 196ms/step - loss: 0.0070 - visible_precision: 0.9675 - visible_recall: 0.9694 - xy_loss: 0.0070 - val_loss: 0.0077 - val_visible_precision: 0.9698 - val_visible_recall: 0.9654 - val_xy_loss: 0.0077 - lr: 2.0000e-04\n",
      "Epoch 42/100\n",
      "18/18 [==============================] - 2s 125ms/steposs: 0.0069 - visible_precision: 0.9676 - visi\n",
      "1/1 [==============================] - 0s 30ms/step\n",
      "102/102 [==============================] - 24s 196ms/step - loss: 0.0069 - visible_precision: 0.9676 - visible_recall: 0.9703 - xy_loss: 0.0069 - val_loss: 0.0075 - val_visible_precision: 0.9704 - val_visible_recall: 0.9687 - val_xy_loss: 0.0075 - lr: 4.0000e-05\n",
      "Epoch 43/100\n",
      "18/18 [==============================] - 2s 127ms/steposs: 0.0066 - visible_precision: 0.9694 - visi\n",
      "1/1 [==============================] - 0s 39ms/step\n",
      "102/102 [==============================] - 25s 201ms/step - loss: 0.0066 - visible_precision: 0.9694 - visible_recall: 0.9720 - xy_loss: 0.0066 - val_loss: 0.0074 - val_visible_precision: 0.9695 - val_visible_recall: 0.9681 - val_xy_loss: 0.0074 - lr: 4.0000e-05\n",
      "Epoch 44/100\n",
      "18/18 [==============================] - 2s 124ms/steposs: 0.0067 - visible_precision: 0.9684 - visibl\n",
      "1/1 [==============================] - 0s 35ms/step\n",
      "102/102 [==============================] - 24s 195ms/step - loss: 0.0067 - visible_precision: 0.9684 - visible_recall: 0.9703 - xy_loss: 0.0067 - val_loss: 0.0074 - val_visible_precision: 0.9687 - val_visible_recall: 0.9689 - val_xy_loss: 0.0074 - lr: 4.0000e-05\n",
      "Epoch 45/100\n",
      "18/18 [==============================] - 2s 125ms/steposs: 0.0067 - visible_precision: 0.9685 - visibl\n",
      "1/1 [==============================] - 0s 39ms/step\n",
      "102/102 [==============================] - 25s 201ms/step - loss: 0.0067 - visible_precision: 0.9685 - visible_recall: 0.9712 - xy_loss: 0.0067 - val_loss: 0.0074 - val_visible_precision: 0.9704 - val_visible_recall: 0.9666 - val_xy_loss: 0.0074 - lr: 4.0000e-05\n",
      "Epoch 46/100\n",
      "18/18 [==============================] - 2s 127ms/steposs: 0.0065 - visible_precision: 0.9695 - visi\n",
      "1/1 [==============================] - 0s 45ms/step\n",
      "102/102 [==============================] - 25s 200ms/step - loss: 0.0065 - visible_precision: 0.9695 - visible_recall: 0.9722 - xy_loss: 0.0065 - val_loss: 0.0074 - val_visible_precision: 0.9697 - val_visible_recall: 0.9679 - val_xy_loss: 0.0074 - lr: 4.0000e-05\n",
      "Epoch 47/100\n",
      "18/18 [==============================] - 2s 127ms/steposs: 0.0066 - visible_precision: 0.9691 - visibl\n",
      "1/1 [==============================] - 0s 32ms/step\n",
      "102/102 [==============================] - 24s 196ms/step - loss: 0.0066 - visible_precision: 0.9691 - visible_recall: 0.9722 - xy_loss: 0.0066 - val_loss: 0.0073 - val_visible_precision: 0.9707 - val_visible_recall: 0.9697 - val_xy_loss: 0.0073 - lr: 4.0000e-05\n",
      "Epoch 48/100\n",
      "18/18 [==============================] - 2s 126ms/steposs: 0.0065 - visible_precision: 0.9693 - visible_\n",
      "1/1 [==============================] - 0s 36ms/step\n",
      "102/102 [==============================] - 24s 197ms/step - loss: 0.0065 - visible_precision: 0.9693 - visible_recall: 0.9716 - xy_loss: 0.0065 - val_loss: 0.0073 - val_visible_precision: 0.9699 - val_visible_recall: 0.9701 - val_xy_loss: 0.0073 - lr: 4.0000e-05\n",
      "Epoch 49/100\n"
     ]
    },
    {
     "name": "stderr",
     "output_type": "stream",
     "text": [
      "2022-11-24 10:02:35.766239: I tensorflow/core/kernels/data/shuffle_dataset_op.cc:390] Filling up shuffle buffer (this may take a while): 1068 of 4000\n"
     ]
    },
    {
     "name": "stdout",
     "output_type": "stream",
     "text": [
      "  1/102 [..............................] - ETA: 22:02 - loss: 0.0068 - visible_precision: 0.9686 - visible_recall: 0.9858 - xy_loss: 0.0068"
     ]
    },
    {
     "name": "stderr",
     "output_type": "stream",
     "text": [
      "2022-11-24 10:02:38.695416: I tensorflow/core/kernels/data/shuffle_dataset_op.cc:415] Shuffle buffer filled.\n"
     ]
    },
    {
     "name": "stdout",
     "output_type": "stream",
     "text": [
      "18/18 [==============================] - 2s 125ms/steposs: 0.0068 - visible_precision: 0.9693 - visi\n",
      "1/1 [==============================] - 0s 38ms/step\n",
      "102/102 [==============================] - 33s 196ms/step - loss: 0.0068 - visible_precision: 0.9693 - visible_recall: 0.9705 - xy_loss: 0.0068 - val_loss: 0.0073 - val_visible_precision: 0.9701 - val_visible_recall: 0.9697 - val_xy_loss: 0.0073 - lr: 4.0000e-05\n",
      "Epoch 50/100\n",
      "18/18 [==============================] - 2s 125ms/steposs: 0.0067 - visible_precision: 0.9680 - visi\n",
      "1/1 [==============================] - 0s 36ms/step\n",
      "102/102 [==============================] - 24s 197ms/step - loss: 0.0067 - visible_precision: 0.9680 - visible_recall: 0.9713 - xy_loss: 0.0067 - val_loss: 0.0074 - val_visible_precision: 0.9714 - val_visible_recall: 0.9676 - val_xy_loss: 0.0074 - lr: 4.0000e-05\n",
      "Epoch 51/100\n"
     ]
    },
    {
     "name": "stderr",
     "output_type": "stream",
     "text": [
      "2022-11-24 10:03:32.966593: I tensorflow/core/kernels/data/shuffle_dataset_op.cc:390] Filling up shuffle buffer (this may take a while): 877 of 4000\n"
     ]
    },
    {
     "name": "stdout",
     "output_type": "stream",
     "text": [
      "  1/102 [..............................] - ETA: 22:15 - loss: 0.0117 - visible_precision: 0.9390 - visible_recall: 0.9390 - xy_loss: 0.0117"
     ]
    },
    {
     "name": "stderr",
     "output_type": "stream",
     "text": [
      "2022-11-24 10:03:36.015641: I tensorflow/core/kernels/data/shuffle_dataset_op.cc:415] Shuffle buffer filled.\n"
     ]
    },
    {
     "name": "stdout",
     "output_type": "stream",
     "text": [
      "18/18 [==============================] - 2s 125ms/steposs: 0.0065 - visible_precision: 0.9709 - visibl\n",
      "1/1 [==============================] - 0s 31ms/step\n",
      "102/102 [==============================] - 33s 195ms/step - loss: 0.0065 - visible_precision: 0.9709 - visible_recall: 0.9718 - xy_loss: 0.0065 - val_loss: 0.0073 - val_visible_precision: 0.9709 - val_visible_recall: 0.9715 - val_xy_loss: 0.0073 - lr: 4.0000e-05\n",
      "Epoch 52/100\n",
      "102/102 [==============================] - ETA: 0s - loss: 0.0063 - visible_precision: 0.9697 - visible_recall: 0.9736 - xy_loss: 0.0063\n",
      "Epoch 52: ReduceLROnPlateau reducing learning rate to 8.000000525498762e-06.\n",
      "18/18 [==============================] - 2s 123ms/step\n",
      "1/1 [==============================] - 0s 33ms/step\n",
      "102/102 [==============================] - 24s 198ms/step - loss: 0.0063 - visible_precision: 0.9697 - visible_recall: 0.9736 - xy_loss: 0.0063 - val_loss: 0.0073 - val_visible_precision: 0.9708 - val_visible_recall: 0.9695 - val_xy_loss: 0.0073 - lr: 4.0000e-05\n",
      "Epoch 53/100\n",
      "18/18 [==============================] - 2s 126ms/steposs: 0.0065 - visible_precision: 0.9701 - visibl\n",
      "1/1 [==============================] - 0s 32ms/step\n",
      "102/102 [==============================] - 24s 196ms/step - loss: 0.0065 - visible_precision: 0.9701 - visible_recall: 0.9709 - xy_loss: 0.0065 - val_loss: 0.0073 - val_visible_precision: 0.9707 - val_visible_recall: 0.9703 - val_xy_loss: 0.0073 - lr: 8.0000e-06\n",
      "Epoch 54/100\n",
      "18/18 [==============================] - 2s 125ms/steposs: 0.0065 - visible_precision: 0.9704 - visibl\n",
      "1/1 [==============================] - 0s 40ms/step\n",
      "102/102 [==============================] - 25s 200ms/step - loss: 0.0065 - visible_precision: 0.9704 - visible_recall: 0.9707 - xy_loss: 0.0065 - val_loss: 0.0073 - val_visible_precision: 0.9707 - val_visible_recall: 0.9707 - val_xy_loss: 0.0073 - lr: 8.0000e-06\n",
      "Epoch 55/100\n",
      "18/18 [==============================] - 2s 123ms/steposs: 0.0063 - visible_precision: 0.9706 - visibl\n",
      "1/1 [==============================] - 0s 34ms/step\n",
      "102/102 [==============================] - 24s 194ms/step - loss: 0.0063 - visible_precision: 0.9706 - visible_recall: 0.9725 - xy_loss: 0.0063 - val_loss: 0.0073 - val_visible_precision: 0.9705 - val_visible_recall: 0.9713 - val_xy_loss: 0.0073 - lr: 8.0000e-06\n",
      "Epoch 56/100\n",
      "18/18 [==============================] - 2s 127ms/steposs: 0.0065 - visible_precision: 0.9697 - visibl\n",
      "1/1 [==============================] - 0s 38ms/step\n",
      "102/102 [==============================] - 24s 197ms/step - loss: 0.0065 - visible_precision: 0.9697 - visible_recall: 0.9716 - xy_loss: 0.0065 - val_loss: 0.0073 - val_visible_precision: 0.9711 - val_visible_recall: 0.9707 - val_xy_loss: 0.0073 - lr: 8.0000e-06\n",
      "Epoch 57/100\n",
      "102/102 [==============================] - ETA: 0s - loss: 0.0065 - visible_precision: 0.9703 - visible_recall: 0.9710 - xy_loss: 0.0065\n",
      "Epoch 57: ReduceLROnPlateau reducing learning rate to 1.6000001778593287e-06.\n",
      "18/18 [==============================] - 2s 125ms/step\n",
      "1/1 [==============================] - 0s 35ms/step\n",
      "102/102 [==============================] - 28s 192ms/step - loss: 0.0065 - visible_precision: 0.9703 - visible_recall: 0.9710 - xy_loss: 0.0065 - val_loss: 0.0073 - val_visible_precision: 0.9709 - val_visible_recall: 0.9709 - val_xy_loss: 0.0073 - lr: 8.0000e-06\n",
      "Epoch 58/100\n",
      "18/18 [==============================] - 2s 124ms/steposs: 0.0065 - visible_precision: 0.9683 - visi\n",
      "1/1 [==============================] - 0s 36ms/step\n",
      "102/102 [==============================] - 26s 195ms/step - loss: 0.0065 - visible_precision: 0.9683 - visible_recall: 0.9730 - xy_loss: 0.0065 - val_loss: 0.0073 - val_visible_precision: 0.9711 - val_visible_recall: 0.9709 - val_xy_loss: 0.0073 - lr: 1.6000e-06\n",
      "Epoch 59/100\n",
      "18/18 [==============================] - 2s 126ms/steposs: 0.0064 - visible_precision: 0.9714 - visi\n",
      "1/1 [==============================] - 0s 34ms/step\n",
      "102/102 [==============================] - 24s 192ms/step - loss: 0.0064 - visible_precision: 0.9714 - visible_recall: 0.9712 - xy_loss: 0.0064 - val_loss: 0.0073 - val_visible_precision: 0.9711 - val_visible_recall: 0.9709 - val_xy_loss: 0.0073 - lr: 1.6000e-06\n",
      "Epoch 59: early stopping\n"
     ]
    }
   ],
   "source": [
    "%matplotlib\n",
    "\n",
    "model.compile(\n",
    "    loss='mean_squared_error',\n",
    "    optimizer=tf.keras.optimizers.Adam(1e-3),\n",
    "    metrics=[\n",
    "        VisiblePrecision(),\n",
    "        VisibleRecall(),\n",
    "        XYMeanSquaredError(n_keypoints=NUM_KEYPOINTS)\n",
    "    ],\n",
    "    run_eagerly=False\n",
    ")\n",
    "\n",
    "history = model.fit(\n",
    "    train_ds,\n",
    "    validation_data=val_ds,\n",
    "    epochs=EPOCHS,\n",
    "    callbacks = [\n",
    "        model_checkpoint_callback,\n",
    "        tensorboard_callback,\n",
    "        reduce_lr,\n",
    "        early_stopping,\n",
    "        cm_callback,\n",
    "        log_images_callback\n",
    "    ],\n",
    ")"
   ]
  },
  {
   "cell_type": "code",
   "execution_count": 17,
   "id": "de54928b-56cf-4d3a-992c-6ee67ac82976",
   "metadata": {},
   "outputs": [
    {
     "name": "stderr",
     "output_type": "stream",
     "text": [
      "WARNING:absl:Found untraced functions such as _jit_compiled_convolution_op, _jit_compiled_convolution_op, _jit_compiled_convolution_op, _jit_compiled_convolution_op, _jit_compiled_convolution_op while saving (showing 5 of 119). These functions will not be directly callable after loading.\n"
     ]
    },
    {
     "name": "stdout",
     "output_type": "stream",
     "text": [
      "INFO:tensorflow:Assets written to: checkpoints/20221124_094146/saved_model/assets\n"
     ]
    },
    {
     "name": "stderr",
     "output_type": "stream",
     "text": [
      "INFO:tensorflow:Assets written to: checkpoints/20221124_094146/saved_model/assets\n"
     ]
    }
   ],
   "source": [
    "model.save(model_path.parent / 'saved_model')"
   ]
  },
  {
   "cell_type": "code",
   "execution_count": 18,
   "id": "599b3d58-d22d-40d3-948b-02b00218a010",
   "metadata": {
    "tags": []
   },
   "outputs": [],
   "source": [
    "def get_callbacks(model):\n",
    "    model_base_path = Path('checkpoints')\n",
    "    checkpoint_template_name = 'weights.{epoch:03d}-{val_loss:.5f}'\n",
    "    training_timestamp = datetime.now().strftime('%Y%m%d_%H%M%S')\n",
    "    model_path = model_base_path / training_timestamp / checkpoint_template_name\n",
    "    log_dir = Path('logs') / training_timestamp\n",
    "    \n",
    "    print(f'INFO: logdir = \"{log_dir}\"')\n",
    "\n",
    "    model_checkpoint_callback = tf.keras.callbacks.ModelCheckpoint(\n",
    "        filepath=model_path,\n",
    "        monitor=\"val_loss\",\n",
    "        save_best_only=False,\n",
    "        save_weights_only=True,\n",
    "        mode=\"auto\",\n",
    "        save_freq=\"epoch\",\n",
    "    )\n",
    "\n",
    "    tensorboard_callback = tf.keras.callbacks.TensorBoard(\n",
    "        log_dir=log_dir,\n",
    "        write_graph=False\n",
    "    )\n",
    "\n",
    "    reduce_lr = tf.keras.callbacks.ReduceLROnPlateau(\n",
    "        monitor='val_loss', \n",
    "        factor=0.2,\n",
    "        patience=5, \n",
    "        min_delta=0.0001,\n",
    "        min_lr=0.000001,\n",
    "        verbose=1\n",
    "    )\n",
    "\n",
    "    early_stopping = tf.keras.callbacks.EarlyStopping(\n",
    "        monitor='val_loss',\n",
    "        patience=8,\n",
    "        min_delta=0.0001,\n",
    "        verbose=1,\n",
    "    )\n",
    "\n",
    "    log_cm = LogConfusionMatrixCallback(model, log_dir, val_ds)\n",
    "    cm_callback = tf.keras.callbacks.LambdaCallback(on_epoch_end=log_cm)\n",
    "    \n",
    "    return model_checkpoint_callback, tensorboard_callback, reduce_lr, early_stopping, cm_callback"
   ]
  },
  {
   "cell_type": "code",
   "execution_count": 19,
   "id": "ea180020-6eb9-40db-af9a-3d2a85d54cbd",
   "metadata": {
    "tags": []
   },
   "outputs": [],
   "source": [
    "import itertools\n",
    "\n",
    "\n",
    "def grid_search():\n",
    "    learning_rates = [1e-5, 1e-4, 1e-3, 1e-2]\n",
    "    dropouts = [None, 0.05, 0.1, 0.2, 0.5, 0.9]\n",
    "    \n",
    "    for lr, dropout in itertools.product(learning_rates, dropouts):\n",
    "        model = models.get_model(img_size=IMG_SIZE, num_keypoints=NUM_KEYPOINTS, dropout=dropout)\n",
    "\n",
    "        model.compile(\n",
    "            loss='mean_squared_error',\n",
    "            optimizer=tf.keras.optimizers.Adam(lr),\n",
    "            metrics=[\n",
    "                VisiblePrecision(),\n",
    "                VisibleRecall(),\n",
    "                XYMeanSquaredError(n_keypoints=NUM_KEYPOINTS)\n",
    "            ],\n",
    "        )\n",
    "        callbacks = get_callbacks(model)\n",
    "        print(f'INFO: using {lr=} {dropout=}')\n",
    "        history = model.fit(\n",
    "            train_ds,\n",
    "            validation_data=val_ds,\n",
    "            epochs=EPOCHS,\n",
    "            callbacks = callbacks,\n",
    "            verbose=2\n",
    "        )"
   ]
  },
  {
   "cell_type": "code",
   "execution_count": 20,
   "id": "1fbb6a4e-8cbd-40e8-8b23-18c7e83924dd",
   "metadata": {},
   "outputs": [
    {
     "name": "stdout",
     "output_type": "stream",
     "text": [
      "Using matplotlib backend: agg\n"
     ]
    }
   ],
   "source": [
    "%matplotlib\n",
    "# grid_search()"
   ]
  },
  {
   "cell_type": "markdown",
   "id": "b98d7e2d-9e70-4c8f-a60b-6f206b24939b",
   "metadata": {},
   "source": [
    "### Plots"
   ]
  },
  {
   "cell_type": "code",
   "execution_count": null,
   "id": "37a58dab-177b-466f-9864-7031ed89a867",
   "metadata": {},
   "outputs": [],
   "source": [
    "model = tf.keras.models.load('checkpoints/20221124_094146/saved_model"
   ]
  },
  {
   "cell_type": "code",
   "execution_count": 22,
   "id": "27f7b260-11b8-44a7-9ec9-c5f852474cdf",
   "metadata": {},
   "outputs": [
    {
     "data": {
      "image/png": "[encoded data removed]",
      "text/plain": [
       "<Figure size 640x480 with 1 Axes>"
      ]
     },
     "metadata": {},
     "output_type": "display_data"
    }
   ],
   "source": [
    "%matplotlib inline\n",
    "plt.plot(history.history['loss'], label='train')\n",
    "plt.plot(history.history['val_loss'], label='val')\n",
    "plt.title('L2 loss')\n",
    "plt.legend()\n",
    "plt.show()"
   ]
  },
  {
   "cell_type": "code",
   "execution_count": 24,
   "id": "6d83c7df-c037-40f4-b1f1-61b862fef423",
   "metadata": {},
   "outputs": [
    {
     "data": {
      "image/png": "[encoded data removed]",
      "text/plain": [
       "<Figure size 640x480 with 1 Axes>"
      ]
     },
     "metadata": {},
     "output_type": "display_data"
    }
   ],
   "source": [
    "%matplotlib inline\n",
    "plt.plot(history.history['visible_precision'], label='train precision')\n",
    "plt.plot(history.history['val_visible_precision'], label='val precision')\n",
    "plt.plot(history.history['visible_recall'], label='train recall')\n",
    "plt.plot(history.history['val_visible_recall'], label='val recall')\n",
    "plt.title('Precision and recall')\n",
    "plt.legend()\n",
    "plt.show()"
   ]
  },
  {
   "cell_type": "code",
   "execution_count": 31,
   "id": "e0a7db81-c681-4bd9-b0e2-e68c579dec5e",
   "metadata": {},
   "outputs": [
    {
     "name": "stdout",
     "output_type": "stream",
     "text": [
      "1/1 [==============================] - 0s 113ms/step\n"
     ]
    }
   ],
   "source": [
    "# model = get_model()\n",
    "\n",
    "sample_val_images, sample_val_keypoints = next(iter(val_ds))\n",
    "sample_val_images = sample_val_images\n",
    "sample_val_keypoints = sample_val_keypoints.numpy()  # .reshape(-1, 38, 2)\n",
    "\n",
    "predictions = model.predict(sample_val_images)    # .reshape(-1, 38, 2)"
   ]
  },
  {
   "cell_type": "code",
   "execution_count": 32,
   "id": "e2163ab5-d9f2-4919-993b-919d04ab661b",
   "metadata": {},
   "outputs": [
    {
     "ename": "TypeError",
     "evalue": "show_image_with_annotations() missing 1 required positional argument: 'labels'",
     "output_type": "error",
     "traceback": [
      "\u001b[0;31m---------------------------------------------------------------------------\u001b[0m",
      "\u001b[0;31mTypeError\u001b[0m                                 Traceback (most recent call last)",
      "Cell \u001b[0;32mIn [32], line 2\u001b[0m\n\u001b[1;32m      1\u001b[0m \u001b[38;5;66;03m# Ground-truth\u001b[39;00m\n\u001b[0;32m----> 2\u001b[0m \u001b[43mvis_utils\u001b[49m\u001b[38;5;241;43m.\u001b[39;49m\u001b[43mshow_image_with_annotations\u001b[49m\u001b[43m(\u001b[49m\u001b[43msample_val_images\u001b[49m\u001b[38;5;241;43m.\u001b[39;49m\u001b[43mnumpy\u001b[49m\u001b[43m(\u001b[49m\u001b[43m)\u001b[49m\u001b[43m[\u001b[49m\u001b[38;5;241;43m0\u001b[39;49m\u001b[43m,\u001b[49m\u001b[43m:\u001b[49m\u001b[43m]\u001b[49m\u001b[43m \u001b[49m\u001b[38;5;241;43m/\u001b[39;49m\u001b[43m \u001b[49m\u001b[38;5;241;43m255.\u001b[39;49m\u001b[43m,\u001b[49m\u001b[43m \u001b[49m\u001b[43msample_val_keypoints\u001b[49m\u001b[43m[\u001b[49m\u001b[38;5;241;43m0\u001b[39;49m\u001b[43m,\u001b[49m\u001b[43m:\u001b[49m\u001b[43m]\u001b[49m\u001b[43m,\u001b[49m\u001b[43m \u001b[49m\u001b[43mdot_radius\u001b[49m\u001b[38;5;241;43m=\u001b[39;49m\u001b[38;5;241;43m3\u001b[39;49m\u001b[43m,\u001b[49m\u001b[43m \u001b[49m\u001b[43mvis\u001b[49m\u001b[38;5;241;43m=\u001b[39;49m\u001b[38;5;28;43;01mTrue\u001b[39;49;00m\u001b[43m)\u001b[49m\n",
      "\u001b[0;31mTypeError\u001b[0m: show_image_with_annotations() missing 1 required positional argument: 'labels'"
     ]
    }
   ],
   "source": [
    "# Ground-truth\n",
    "vis_utils.show_image_with_annotations(sample_val_images.numpy()[0,:] / 255., sample_val_keypoints[0,:], dot_radius=3, vis=True)"
   ]
  },
  {
   "cell_type": "code",
   "execution_count": null,
   "id": "d2fea5e4-26d6-4029-8e5e-ea148a3721c5",
   "metadata": {
    "tags": []
   },
   "outputs": [],
   "source": [
    "# Predictions\n",
    "vis_utils.show_image_with_annotations(sample_val_images.numpy()[1,:] / 255., predictions[1], dot_radius=3, normalized=True, vis=True)"
   ]
  },
  {
   "cell_type": "code",
   "execution_count": null,
   "id": "cba229fb-8b3a-43e4-8bca-2f8211a73620",
   "metadata": {},
   "outputs": [],
   "source": [
    "plt.hist(predictions[0].reshape(38, 3)[:, 2])"
   ]
  },
  {
   "cell_type": "code",
   "execution_count": null,
   "id": "34804890-b4a2-4f03-adb5-15d564cea110",
   "metadata": {
    "tags": []
   },
   "outputs": [],
   "source": [
    "# model.evaluate(x=sample_val_images[:3], y=sample_val_keypoints[:3])"
   ]
  },
  {
   "cell_type": "markdown",
   "id": "395e3ce3-738c-4937-b2c4-aa9bc155263e",
   "metadata": {},
   "source": [
    "# Accuracy of predicting visible vs invisible"
   ]
  },
  {
   "cell_type": "code",
   "execution_count": null,
   "id": "06e98fd3-23f5-41bb-867d-9552b6e1c1b5",
   "metadata": {},
   "outputs": [],
   "source": [
    "from pitch_geo.models.metrics import get_visible_from_array"
   ]
  },
  {
   "cell_type": "code",
   "execution_count": null,
   "id": "5eea8d82-7786-4c9f-9880-43534a04f42e",
   "metadata": {},
   "outputs": [],
   "source": [
    "ys = []\n",
    "for x, y in val_ds:\n",
    "    ys.append(get_visible_from_array(y.numpy(), 0.5))"
   ]
  },
  {
   "cell_type": "code",
   "execution_count": null,
   "id": "3325904e-8198-4465-be2a-05d6d2ae9ba4",
   "metadata": {},
   "outputs": [],
   "source": [
    "import numpy as np"
   ]
  },
  {
   "cell_type": "code",
   "execution_count": null,
   "id": "5d22d223-0c31-4a9b-a90e-e41b57e09b37",
   "metadata": {},
   "outputs": [],
   "source": [
    "ys = np.concatenate(ys)"
   ]
  },
  {
   "cell_type": "code",
   "execution_count": null,
   "id": "c291f4e6-deb4-4287-9ff6-de509aa253dc",
   "metadata": {},
   "outputs": [],
   "source": [
    "from sklearn.metrics import confusion_matrix, ConfusionMatrixDisplay"
   ]
  },
  {
   "cell_type": "code",
   "execution_count": null,
   "id": "95e71784-3ba2-49e6-9d14-313ef4c5562f",
   "metadata": {},
   "outputs": [],
   "source": [
    "vis = df[df['image_path'].isin(test_paths)]['vis']\n",
    "print(f\"% of invisible keypoints in validation set: {(vis == False).mean():0.2%}\")"
   ]
  },
  {
   "cell_type": "code",
   "execution_count": null,
   "id": "1e98e1ca-28e4-41ec-88c8-c7124f80c5c0",
   "metadata": {},
   "outputs": [],
   "source": [
    "y_hat = model.predict(val_ds)"
   ]
  },
  {
   "cell_type": "code",
   "execution_count": null,
   "id": "88123ee6-12df-4e88-be21-aba827d03b5a",
   "metadata": {},
   "outputs": [],
   "source": [
    "vis_hat = get_visible_from_array(y_hat, 0.5)"
   ]
  },
  {
   "cell_type": "code",
   "execution_count": null,
   "id": "58a1c86a-aae8-439e-b04f-71824dbabe01",
   "metadata": {},
   "outputs": [],
   "source": [
    "vis_hat = y.reshape(574, NUM_KEYPOINTS, 3)[:, :, 2] > 0.1\n",
    "(vis_hat.reshape(-1) == vis).mean()"
   ]
  },
  {
   "cell_type": "code",
   "execution_count": null,
   "id": "b034d183-3661-4ac9-9d0e-c2e68ce7f503",
   "metadata": {},
   "outputs": [],
   "source": [
    "%matplotlib\n",
    "log_cm = LogConfusionMatrixCallback(model, Path('tmp'), val_ds.take(1))\n",
    "img = log_cm.calculate_cm()"
   ]
  },
  {
   "cell_type": "code",
   "execution_count": null,
   "id": "d1d9721c-2953-4d31-98f6-a3ce34576c62",
   "metadata": {},
   "outputs": [],
   "source": [
    "# %matplotlib inline\n",
    "plt.imshow(img.numpy()[0, :, :, :])"
   ]
  },
  {
   "cell_type": "code",
   "execution_count": null,
   "id": "2437bd55-8636-4ff2-b070-6d1652332295",
   "metadata": {},
   "outputs": [],
   "source": [
    "TP = cm[1, 1]\n",
    "FP = cm[0, 1]\n",
    "FN = cm[1, 0]\n",
    "\n",
    "precision = TP / (TP + FP)\n",
    "recall = TP / (TP + FN)\n",
    "f1_score = 2 * precision * recall / (precision + recall)"
   ]
  },
  {
   "cell_type": "code",
   "execution_count": null,
   "id": "49c71ed3-345e-4032-921b-b9e18619124e",
   "metadata": {},
   "outputs": [],
   "source": [
    "print(f'classifying points as invisible:')\n",
    "print(f'precision:\\t{precision:.4f}')\n",
    "print(f'recall:\\t\\t{recall:.4f}')\n",
    "print(f'f1 score:\\t{f1_score:.4f}')"
   ]
  },
  {
   "cell_type": "markdown",
   "id": "81f69861-6f53-4f0d-b595-af133c574f7f",
   "metadata": {},
   "source": [
    "# Analysis of losses\n",
    "\n",
    "## Histogram of losses\n",
    "\n",
    "Are there any special cases with big loss, or is the loss evenly spread across all the samples?"
   ]
  },
  {
   "cell_type": "code",
   "execution_count": null,
   "id": "b55f7a1f-e579-48a5-bcef-b96d4b9f1824",
   "metadata": {},
   "outputs": [],
   "source": [
    "y_true.shape"
   ]
  },
  {
   "cell_type": "code",
   "execution_count": null,
   "id": "48c2b816-0222-4b79-ae1a-998002f1b129",
   "metadata": {},
   "outputs": [],
   "source": [
    "model.evaluate(val_ds)"
   ]
  },
  {
   "cell_type": "code",
   "execution_count": null,
   "id": "fa00364b-caab-4cb6-8e8a-9f88cad0f15c",
   "metadata": {},
   "outputs": [],
   "source": [
    "y"
   ]
  },
  {
   "cell_type": "code",
   "execution_count": null,
   "id": "0c87cd27-a2c1-4d3d-9101-5caa96c9e43e",
   "metadata": {},
   "outputs": [],
   "source": [
    "mse = tf.keras.losses.MeanSquaredError()"
   ]
  },
  {
   "cell_type": "code",
   "execution_count": null,
   "id": "46c428be-bd0b-4198-8cfc-485aa431fa11",
   "metadata": {},
   "outputs": [],
   "source": [
    "# val_df = df[df['image_path'].isin(test_paths)]\n",
    "# y_true = val_df[['x', 'y', 'vis']].values.astype(np.float32)"
   ]
  },
  {
   "cell_type": "code",
   "execution_count": null,
   "id": "cc4fc63f-1a05-4568-998e-bc4873c26df6",
   "metadata": {},
   "outputs": [],
   "source": [
    "y_true.shape"
   ]
  },
  {
   "cell_type": "code",
   "execution_count": null,
   "id": "544e591c-e59f-4238-a4c4-2b77e446b137",
   "metadata": {},
   "outputs": [],
   "source": [
    "y.shape"
   ]
  },
  {
   "cell_type": "code",
   "execution_count": null,
   "id": "8e08c61f-3384-45e8-b9a5-8d3f77ba8ed0",
   "metadata": {},
   "outputs": [],
   "source": [
    "y.reshape(-1).shape"
   ]
  },
  {
   "cell_type": "code",
   "execution_count": null,
   "id": "4f132011-8034-4644-a38a-9e066614be52",
   "metadata": {},
   "outputs": [],
   "source": [
    "mse(y_true, y.reshape(-1, 3))"
   ]
  },
  {
   "cell_type": "code",
   "execution_count": null,
   "id": "c97bd849-4cdd-4182-973c-87688b8f3814",
   "metadata": {},
   "outputs": [],
   "source": [
    "loss = []\n",
    "for i in range(y.shape[0]):\n",
    "    loss.append(mse(y_true[i], y_hat[i]))"
   ]
  },
  {
   "cell_type": "code",
   "execution_count": null,
   "id": "c63194ab-6dea-45c8-ae82-db7ce0055e22",
   "metadata": {},
   "outputs": [],
   "source": [
    "plt.hist(loss)\n",
    "plt.show()"
   ]
  },
  {
   "cell_type": "code",
   "execution_count": null,
   "id": "a1a9c391-fbdf-44f6-99f6-31d13edf867c",
   "metadata": {},
   "outputs": [],
   "source": [
    "y_true.shape"
   ]
  },
  {
   "cell_type": "code",
   "execution_count": null,
   "id": "5e3ed146-d7fc-4389-b269-d75f8ace47ab",
   "metadata": {},
   "outputs": [],
   "source": [
    "y.shape"
   ]
  },
  {
   "cell_type": "code",
   "execution_count": null,
   "id": "9214c84a-ef9c-412a-b627-7cece4abda0d",
   "metadata": {},
   "outputs": [],
   "source": [
    "mse(y_true, y_hat)"
   ]
  },
  {
   "cell_type": "code",
   "execution_count": null,
   "id": "8f01ef38-f07f-40fb-a82e-4329c7b5675d",
   "metadata": {},
   "outputs": [],
   "source": [
    "np.mean(loss)"
   ]
  },
  {
   "cell_type": "markdown",
   "id": "1763a7a5-6d71-4d55-ae3b-109bac357ff3",
   "metadata": {
    "tags": []
   },
   "source": [
    "# Performance of a naive model\n",
    "\n",
    "Is the loss 0.0458 big or small? To understand a bit the magnitude of a loss, let's consider a loss of a model predicting every point to lie in a center of a frame. Or in $(0, 0)$ point."
   ]
  },
  {
   "cell_type": "code",
   "execution_count": null,
   "id": "cfe598f3-6210-40c5-811f-b3c23a72ac3d",
   "metadata": {},
   "outputs": [],
   "source": [
    "mse = tf.keras.losses.MeanSquaredError()"
   ]
  },
  {
   "cell_type": "code",
   "execution_count": null,
   "id": "73494ca3-bcce-4083-81ae-761dc6b5f6ea",
   "metadata": {},
   "outputs": [],
   "source": [
    "y_true = []\n",
    "for _, y in val_ds:\n",
    "    y_true.append(y.numpy())\n",
    "    \n",
    "y_true = np.vstack(y_true)"
   ]
  },
  {
   "cell_type": "code",
   "execution_count": null,
   "id": "4b7540a7-f1b8-44c9-8a39-1b688f1eaccf",
   "metadata": {},
   "outputs": [],
   "source": [
    "y_true.shape"
   ]
  },
  {
   "cell_type": "code",
   "execution_count": null,
   "id": "77bf347b-88db-4cd6-aba6-b60f0f0aa11d",
   "metadata": {},
   "outputs": [],
   "source": [
    "y_naive = np.ones_like(y_true) * 0.5\n",
    "print(mse(y_true, y_naive))"
   ]
  },
  {
   "cell_type": "code",
   "execution_count": null,
   "id": "c9a2ec76-0cea-4a3d-83b4-022c875e6201",
   "metadata": {},
   "outputs": [],
   "source": [
    "y_naive = np.zeros_like(y_true)\n",
    "print(mse(y_true, y_naive))"
   ]
  },
  {
   "cell_type": "markdown",
   "id": "f7546f54-8326-42cf-b93f-ce68bda710a4",
   "metadata": {},
   "source": [
    "It looks as if the most reasonable thing the model can do is to always predict (0, 0)!\n",
    "\n",
    "I can fight it either with using augmentation that would cuase the upperleft corner to move, or with a different loss function, that would more penalize predict (0, 0) (not visible) if the ground truth keypoint is actually visible. But the first option is easier."
   ]
  }
 ],
 "metadata": {
  "kernelspec": {
   "display_name": "Python 3 (ipykernel)",
   "language": "python",
   "name": "python3"
  },
  "language_info": {
   "codemirror_mode": {
    "name": "ipython",
    "version": 3
   },
   "file_extension": ".py",
   "mimetype": "text/x-python",
   "name": "python",
   "nbconvert_exporter": "python",
   "pygments_lexer": "ipython3",
   "version": "3.8.10"
  }
 },
 "nbformat": 4,
 "nbformat_minor": 5
}
